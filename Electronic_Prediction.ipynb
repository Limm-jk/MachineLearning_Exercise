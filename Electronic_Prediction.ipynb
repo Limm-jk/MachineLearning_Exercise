{
  "nbformat": 4,
  "nbformat_minor": 0,
  "metadata": {
    "colab": {
      "name": "Electronic_Prediction.ipynb",
      "provenance": []
    },
    "kernelspec": {
      "name": "python3",
      "display_name": "Python 3"
    },
    "accelerator": "GPU"
  },
  "cells": [
    {
      "cell_type": "code",
      "metadata": {
        "id": "m723KHn0bsHx",
        "colab_type": "code",
        "outputId": "b1dac2fc-676a-4705-e31f-3b680b530e1f",
        "colab": {
          "base_uri": "https://localhost:8080/",
          "height": 1000
        }
      },
      "source": [
        "!pip install tensorflow==2.0.0"
      ],
      "execution_count": 0,
      "outputs": [
        {
          "output_type": "stream",
          "text": [
            "Collecting tensorflow==2.0.0\n",
            "\u001b[?25l  Downloading https://files.pythonhosted.org/packages/46/0f/7bd55361168bb32796b360ad15a25de6966c9c1beb58a8e30c01c8279862/tensorflow-2.0.0-cp36-cp36m-manylinux2010_x86_64.whl (86.3MB)\n",
            "\u001b[K     |████████████████████████████████| 86.3MB 52kB/s \n",
            "\u001b[?25hRequirement already satisfied: keras-preprocessing>=1.0.5 in /usr/local/lib/python3.6/dist-packages (from tensorflow==2.0.0) (1.1.0)\n",
            "Collecting tensorboard<2.1.0,>=2.0.0\n",
            "\u001b[?25l  Downloading https://files.pythonhosted.org/packages/76/54/99b9d5d52d5cb732f099baaaf7740403e83fe6b0cedde940fabd2b13d75a/tensorboard-2.0.2-py3-none-any.whl (3.8MB)\n",
            "\u001b[K     |████████████████████████████████| 3.8MB 62.6MB/s \n",
            "\u001b[?25hRequirement already satisfied: termcolor>=1.1.0 in /usr/local/lib/python3.6/dist-packages (from tensorflow==2.0.0) (1.1.0)\n",
            "Requirement already satisfied: wheel>=0.26 in /usr/local/lib/python3.6/dist-packages (from tensorflow==2.0.0) (0.34.2)\n",
            "Requirement already satisfied: keras-applications>=1.0.8 in /usr/local/lib/python3.6/dist-packages (from tensorflow==2.0.0) (1.0.8)\n",
            "Requirement already satisfied: google-pasta>=0.1.6 in /usr/local/lib/python3.6/dist-packages (from tensorflow==2.0.0) (0.1.8)\n",
            "Requirement already satisfied: numpy<2.0,>=1.16.0 in /usr/local/lib/python3.6/dist-packages (from tensorflow==2.0.0) (1.17.5)\n",
            "Requirement already satisfied: opt-einsum>=2.3.2 in /usr/local/lib/python3.6/dist-packages (from tensorflow==2.0.0) (3.1.0)\n",
            "Collecting tensorflow-estimator<2.1.0,>=2.0.0\n",
            "\u001b[?25l  Downloading https://files.pythonhosted.org/packages/fc/08/8b927337b7019c374719145d1dceba21a8bb909b93b1ad6f8fb7d22c1ca1/tensorflow_estimator-2.0.1-py2.py3-none-any.whl (449kB)\n",
            "\u001b[K     |████████████████████████████████| 450kB 56.1MB/s \n",
            "\u001b[?25hRequirement already satisfied: protobuf>=3.6.1 in /usr/local/lib/python3.6/dist-packages (from tensorflow==2.0.0) (3.10.0)\n",
            "Requirement already satisfied: gast==0.2.2 in /usr/local/lib/python3.6/dist-packages (from tensorflow==2.0.0) (0.2.2)\n",
            "Requirement already satisfied: six>=1.10.0 in /usr/local/lib/python3.6/dist-packages (from tensorflow==2.0.0) (1.12.0)\n",
            "Requirement already satisfied: astor>=0.6.0 in /usr/local/lib/python3.6/dist-packages (from tensorflow==2.0.0) (0.8.1)\n",
            "Requirement already satisfied: wrapt>=1.11.1 in /usr/local/lib/python3.6/dist-packages (from tensorflow==2.0.0) (1.11.2)\n",
            "Requirement already satisfied: grpcio>=1.8.6 in /usr/local/lib/python3.6/dist-packages (from tensorflow==2.0.0) (1.15.0)\n",
            "Requirement already satisfied: absl-py>=0.7.0 in /usr/local/lib/python3.6/dist-packages (from tensorflow==2.0.0) (0.9.0)\n",
            "Requirement already satisfied: requests<3,>=2.21.0 in /usr/local/lib/python3.6/dist-packages (from tensorboard<2.1.0,>=2.0.0->tensorflow==2.0.0) (2.21.0)\n",
            "Requirement already satisfied: setuptools>=41.0.0 in /usr/local/lib/python3.6/dist-packages (from tensorboard<2.1.0,>=2.0.0->tensorflow==2.0.0) (45.1.0)\n",
            "Requirement already satisfied: google-auth-oauthlib<0.5,>=0.4.1 in /usr/local/lib/python3.6/dist-packages (from tensorboard<2.1.0,>=2.0.0->tensorflow==2.0.0) (0.4.1)\n",
            "Collecting google-auth<2,>=1.6.3\n",
            "\u001b[?25l  Downloading https://files.pythonhosted.org/packages/1c/6d/7aae38a9022f982cf8167775c7fc299f203417b698c27080ce09060bba07/google_auth-1.11.0-py2.py3-none-any.whl (76kB)\n",
            "\u001b[K     |████████████████████████████████| 81kB 12.1MB/s \n",
            "\u001b[?25hRequirement already satisfied: werkzeug>=0.11.15 in /usr/local/lib/python3.6/dist-packages (from tensorboard<2.1.0,>=2.0.0->tensorflow==2.0.0) (0.16.1)\n",
            "Requirement already satisfied: markdown>=2.6.8 in /usr/local/lib/python3.6/dist-packages (from tensorboard<2.1.0,>=2.0.0->tensorflow==2.0.0) (3.1.1)\n",
            "Requirement already satisfied: h5py in /usr/local/lib/python3.6/dist-packages (from keras-applications>=1.0.8->tensorflow==2.0.0) (2.8.0)\n",
            "Requirement already satisfied: chardet<3.1.0,>=3.0.2 in /usr/local/lib/python3.6/dist-packages (from requests<3,>=2.21.0->tensorboard<2.1.0,>=2.0.0->tensorflow==2.0.0) (3.0.4)\n",
            "Requirement already satisfied: urllib3<1.25,>=1.21.1 in /usr/local/lib/python3.6/dist-packages (from requests<3,>=2.21.0->tensorboard<2.1.0,>=2.0.0->tensorflow==2.0.0) (1.24.3)\n",
            "Requirement already satisfied: idna<2.9,>=2.5 in /usr/local/lib/python3.6/dist-packages (from requests<3,>=2.21.0->tensorboard<2.1.0,>=2.0.0->tensorflow==2.0.0) (2.8)\n",
            "Requirement already satisfied: certifi>=2017.4.17 in /usr/local/lib/python3.6/dist-packages (from requests<3,>=2.21.0->tensorboard<2.1.0,>=2.0.0->tensorflow==2.0.0) (2019.11.28)\n",
            "Requirement already satisfied: requests-oauthlib>=0.7.0 in /usr/local/lib/python3.6/dist-packages (from google-auth-oauthlib<0.5,>=0.4.1->tensorboard<2.1.0,>=2.0.0->tensorflow==2.0.0) (1.3.0)\n",
            "Requirement already satisfied: cachetools<5.0,>=2.0.0 in /usr/local/lib/python3.6/dist-packages (from google-auth<2,>=1.6.3->tensorboard<2.1.0,>=2.0.0->tensorflow==2.0.0) (4.0.0)\n",
            "Requirement already satisfied: pyasn1-modules>=0.2.1 in /usr/local/lib/python3.6/dist-packages (from google-auth<2,>=1.6.3->tensorboard<2.1.0,>=2.0.0->tensorflow==2.0.0) (0.2.8)\n",
            "Requirement already satisfied: rsa<4.1,>=3.1.4 in /usr/local/lib/python3.6/dist-packages (from google-auth<2,>=1.6.3->tensorboard<2.1.0,>=2.0.0->tensorflow==2.0.0) (4.0)\n",
            "Requirement already satisfied: oauthlib>=3.0.0 in /usr/local/lib/python3.6/dist-packages (from requests-oauthlib>=0.7.0->google-auth-oauthlib<0.5,>=0.4.1->tensorboard<2.1.0,>=2.0.0->tensorflow==2.0.0) (3.1.0)\n",
            "Requirement already satisfied: pyasn1<0.5.0,>=0.4.6 in /usr/local/lib/python3.6/dist-packages (from pyasn1-modules>=0.2.1->google-auth<2,>=1.6.3->tensorboard<2.1.0,>=2.0.0->tensorflow==2.0.0) (0.4.8)\n",
            "\u001b[31mERROR: tensorboard 2.0.2 has requirement grpcio>=1.24.3, but you'll have grpcio 1.15.0 which is incompatible.\u001b[0m\n",
            "\u001b[31mERROR: google-colab 1.0.0 has requirement google-auth~=1.4.0, but you'll have google-auth 1.11.0 which is incompatible.\u001b[0m\n",
            "Installing collected packages: google-auth, tensorboard, tensorflow-estimator, tensorflow\n",
            "  Found existing installation: google-auth 1.4.2\n",
            "    Uninstalling google-auth-1.4.2:\n",
            "      Successfully uninstalled google-auth-1.4.2\n",
            "  Found existing installation: tensorboard 1.15.0\n",
            "    Uninstalling tensorboard-1.15.0:\n",
            "      Successfully uninstalled tensorboard-1.15.0\n",
            "  Found existing installation: tensorflow-estimator 1.15.1\n",
            "    Uninstalling tensorflow-estimator-1.15.1:\n",
            "      Successfully uninstalled tensorflow-estimator-1.15.1\n",
            "  Found existing installation: tensorflow 1.15.0\n",
            "    Uninstalling tensorflow-1.15.0:\n",
            "      Successfully uninstalled tensorflow-1.15.0\n",
            "Successfully installed google-auth-1.11.0 tensorboard-2.0.2 tensorflow-2.0.0 tensorflow-estimator-2.0.1\n"
          ],
          "name": "stdout"
        },
        {
          "output_type": "display_data",
          "data": {
            "application/vnd.colab-display-data+json": {
              "pip_warning": {
                "packages": [
                  "google"
                ]
              }
            }
          },
          "metadata": {
            "tags": []
          }
        }
      ]
    },
    {
      "cell_type": "code",
      "metadata": {
        "id": "-_3RJe8rbLw_",
        "colab_type": "code",
        "colab": {}
      },
      "source": [
        "import tensorflow as tf\n",
        "import numpy as np\n",
        "import pandas as pd\n",
        "import matplotlib.pyplot as plt\n",
        "\n",
        "from sklearn.preprocessing import MinMaxScaler\n",
        "from tensorflow.keras import Sequential\n",
        "from tensorflow.keras.layers import LSTM, Dropout, Dense"
      ],
      "execution_count": 0,
      "outputs": []
    },
    {
      "cell_type": "code",
      "metadata": {
        "id": "u2eofbtabegU",
        "colab_type": "code",
        "outputId": "00f8891e-8ae6-425c-b653-21b1637e3ee8",
        "colab": {
          "base_uri": "https://localhost:8080/",
          "height": 125
        }
      },
      "source": [
        "from google.colab import drive\n",
        "drive.mount(\"/content/gdrive\")"
      ],
      "execution_count": 0,
      "outputs": [
        {
          "output_type": "stream",
          "text": [
            "Go to this URL in a browser: https://accounts.google.com/o/oauth2/auth?client_id=947318989803-6bn6qk8qdgf4n4g3pfee6491hc0brc4i.apps.googleusercontent.com&redirect_uri=urn%3aietf%3awg%3aoauth%3a2.0%3aoob&response_type=code&scope=email%20https%3a%2f%2fwww.googleapis.com%2fauth%2fdocs.test%20https%3a%2f%2fwww.googleapis.com%2fauth%2fdrive%20https%3a%2f%2fwww.googleapis.com%2fauth%2fdrive.photos.readonly%20https%3a%2f%2fwww.googleapis.com%2fauth%2fpeopleapi.readonly\n",
            "\n",
            "Enter your authorization code:\n",
            "··········\n",
            "Mounted at /content/gdrive\n"
          ],
          "name": "stdout"
        }
      ]
    },
    {
      "cell_type": "code",
      "metadata": {
        "id": "RZHlrEHjbfGQ",
        "colab_type": "code",
        "outputId": "4cce9d04-79e5-467c-9efa-d591d109efff",
        "colab": {
          "base_uri": "https://localhost:8080/",
          "height": 34
        }
      },
      "source": [
        "print(\"Tensorflow version:\", tf.__version__)\n",
        "tf.random.set_seed(777)"
      ],
      "execution_count": 0,
      "outputs": [
        {
          "output_type": "stream",
          "text": [
            "Tensorflow version: 2.0.0\n"
          ],
          "name": "stdout"
        }
      ]
    },
    {
      "cell_type": "code",
      "metadata": {
        "id": "Ep6uUk62bi1R",
        "colab_type": "code",
        "outputId": "3096fb8c-9afb-44bc-a2bb-de99f4d37052",
        "colab": {
          "base_uri": "https://localhost:8080/",
          "height": 142
        }
      },
      "source": [
        "df = pd.read_csv(\"/content/gdrive/My Drive/Colab Notebooks/household_power_consumption.txt\", sep=\";\")\n",
        "df.head(2)"
      ],
      "execution_count": 0,
      "outputs": [
        {
          "output_type": "stream",
          "text": [
            "/usr/local/lib/python3.6/dist-packages/IPython/core/interactiveshell.py:2718: DtypeWarning: Columns (2,3,4,5,6,7) have mixed types. Specify dtype option on import or set low_memory=False.\n",
            "  interactivity=interactivity, compiler=compiler, result=result)\n"
          ],
          "name": "stderr"
        },
        {
          "output_type": "execute_result",
          "data": {
            "text/html": [
              "<div>\n",
              "<style scoped>\n",
              "    .dataframe tbody tr th:only-of-type {\n",
              "        vertical-align: middle;\n",
              "    }\n",
              "\n",
              "    .dataframe tbody tr th {\n",
              "        vertical-align: top;\n",
              "    }\n",
              "\n",
              "    .dataframe thead th {\n",
              "        text-align: right;\n",
              "    }\n",
              "</style>\n",
              "<table border=\"1\" class=\"dataframe\">\n",
              "  <thead>\n",
              "    <tr style=\"text-align: right;\">\n",
              "      <th></th>\n",
              "      <th>Date</th>\n",
              "      <th>Time</th>\n",
              "      <th>Global_active_power</th>\n",
              "      <th>Global_reactive_power</th>\n",
              "      <th>Voltage</th>\n",
              "      <th>Global_intensity</th>\n",
              "      <th>Sub_metering_1</th>\n",
              "      <th>Sub_metering_2</th>\n",
              "      <th>Sub_metering_3</th>\n",
              "    </tr>\n",
              "  </thead>\n",
              "  <tbody>\n",
              "    <tr>\n",
              "      <th>0</th>\n",
              "      <td>16/12/2006</td>\n",
              "      <td>17:24:00</td>\n",
              "      <td>4.216</td>\n",
              "      <td>0.418</td>\n",
              "      <td>234.840</td>\n",
              "      <td>18.400</td>\n",
              "      <td>0.000</td>\n",
              "      <td>1.000</td>\n",
              "      <td>17.0</td>\n",
              "    </tr>\n",
              "    <tr>\n",
              "      <th>1</th>\n",
              "      <td>16/12/2006</td>\n",
              "      <td>17:25:00</td>\n",
              "      <td>5.360</td>\n",
              "      <td>0.436</td>\n",
              "      <td>233.630</td>\n",
              "      <td>23.000</td>\n",
              "      <td>0.000</td>\n",
              "      <td>1.000</td>\n",
              "      <td>16.0</td>\n",
              "    </tr>\n",
              "  </tbody>\n",
              "</table>\n",
              "</div>"
            ],
            "text/plain": [
              "         Date      Time  ... Sub_metering_2 Sub_metering_3\n",
              "0  16/12/2006  17:24:00  ...          1.000           17.0\n",
              "1  16/12/2006  17:25:00  ...          1.000           16.0\n",
              "\n",
              "[2 rows x 9 columns]"
            ]
          },
          "metadata": {
            "tags": []
          },
          "execution_count": 5
        }
      ]
    },
    {
      "cell_type": "code",
      "metadata": {
        "id": "HWvyTQ7_bwuw",
        "colab_type": "code",
        "outputId": "76678de4-e2bb-422e-ef50-757a0b547829",
        "colab": {
          "base_uri": "https://localhost:8080/",
          "height": 34
        }
      },
      "source": [
        "df.shape"
      ],
      "execution_count": 0,
      "outputs": [
        {
          "output_type": "execute_result",
          "data": {
            "text/plain": [
              "(2075259, 9)"
            ]
          },
          "metadata": {
            "tags": []
          },
          "execution_count": 6
        }
      ]
    },
    {
      "cell_type": "code",
      "metadata": {
        "id": "SeBVasMJb1qB",
        "colab_type": "code",
        "outputId": "d033a9e0-7052-492e-fef4-058edf9c30fd",
        "colab": {
          "base_uri": "https://localhost:8080/",
          "height": 402
        }
      },
      "source": [
        "df.isnull()"
      ],
      "execution_count": 0,
      "outputs": [
        {
          "output_type": "execute_result",
          "data": {
            "text/html": [
              "<div>\n",
              "<style scoped>\n",
              "    .dataframe tbody tr th:only-of-type {\n",
              "        vertical-align: middle;\n",
              "    }\n",
              "\n",
              "    .dataframe tbody tr th {\n",
              "        vertical-align: top;\n",
              "    }\n",
              "\n",
              "    .dataframe thead th {\n",
              "        text-align: right;\n",
              "    }\n",
              "</style>\n",
              "<table border=\"1\" class=\"dataframe\">\n",
              "  <thead>\n",
              "    <tr style=\"text-align: right;\">\n",
              "      <th></th>\n",
              "      <th>Date</th>\n",
              "      <th>Time</th>\n",
              "      <th>Global_active_power</th>\n",
              "      <th>Global_reactive_power</th>\n",
              "      <th>Voltage</th>\n",
              "      <th>Global_intensity</th>\n",
              "      <th>Sub_metering_1</th>\n",
              "      <th>Sub_metering_2</th>\n",
              "      <th>Sub_metering_3</th>\n",
              "    </tr>\n",
              "  </thead>\n",
              "  <tbody>\n",
              "    <tr>\n",
              "      <th>0</th>\n",
              "      <td>False</td>\n",
              "      <td>False</td>\n",
              "      <td>False</td>\n",
              "      <td>False</td>\n",
              "      <td>False</td>\n",
              "      <td>False</td>\n",
              "      <td>False</td>\n",
              "      <td>False</td>\n",
              "      <td>False</td>\n",
              "    </tr>\n",
              "    <tr>\n",
              "      <th>1</th>\n",
              "      <td>False</td>\n",
              "      <td>False</td>\n",
              "      <td>False</td>\n",
              "      <td>False</td>\n",
              "      <td>False</td>\n",
              "      <td>False</td>\n",
              "      <td>False</td>\n",
              "      <td>False</td>\n",
              "      <td>False</td>\n",
              "    </tr>\n",
              "    <tr>\n",
              "      <th>2</th>\n",
              "      <td>False</td>\n",
              "      <td>False</td>\n",
              "      <td>False</td>\n",
              "      <td>False</td>\n",
              "      <td>False</td>\n",
              "      <td>False</td>\n",
              "      <td>False</td>\n",
              "      <td>False</td>\n",
              "      <td>False</td>\n",
              "    </tr>\n",
              "    <tr>\n",
              "      <th>3</th>\n",
              "      <td>False</td>\n",
              "      <td>False</td>\n",
              "      <td>False</td>\n",
              "      <td>False</td>\n",
              "      <td>False</td>\n",
              "      <td>False</td>\n",
              "      <td>False</td>\n",
              "      <td>False</td>\n",
              "      <td>False</td>\n",
              "    </tr>\n",
              "    <tr>\n",
              "      <th>4</th>\n",
              "      <td>False</td>\n",
              "      <td>False</td>\n",
              "      <td>False</td>\n",
              "      <td>False</td>\n",
              "      <td>False</td>\n",
              "      <td>False</td>\n",
              "      <td>False</td>\n",
              "      <td>False</td>\n",
              "      <td>False</td>\n",
              "    </tr>\n",
              "    <tr>\n",
              "      <th>...</th>\n",
              "      <td>...</td>\n",
              "      <td>...</td>\n",
              "      <td>...</td>\n",
              "      <td>...</td>\n",
              "      <td>...</td>\n",
              "      <td>...</td>\n",
              "      <td>...</td>\n",
              "      <td>...</td>\n",
              "      <td>...</td>\n",
              "    </tr>\n",
              "    <tr>\n",
              "      <th>2075254</th>\n",
              "      <td>False</td>\n",
              "      <td>False</td>\n",
              "      <td>False</td>\n",
              "      <td>False</td>\n",
              "      <td>False</td>\n",
              "      <td>False</td>\n",
              "      <td>False</td>\n",
              "      <td>False</td>\n",
              "      <td>False</td>\n",
              "    </tr>\n",
              "    <tr>\n",
              "      <th>2075255</th>\n",
              "      <td>False</td>\n",
              "      <td>False</td>\n",
              "      <td>False</td>\n",
              "      <td>False</td>\n",
              "      <td>False</td>\n",
              "      <td>False</td>\n",
              "      <td>False</td>\n",
              "      <td>False</td>\n",
              "      <td>False</td>\n",
              "    </tr>\n",
              "    <tr>\n",
              "      <th>2075256</th>\n",
              "      <td>False</td>\n",
              "      <td>False</td>\n",
              "      <td>False</td>\n",
              "      <td>False</td>\n",
              "      <td>False</td>\n",
              "      <td>False</td>\n",
              "      <td>False</td>\n",
              "      <td>False</td>\n",
              "      <td>False</td>\n",
              "    </tr>\n",
              "    <tr>\n",
              "      <th>2075257</th>\n",
              "      <td>False</td>\n",
              "      <td>False</td>\n",
              "      <td>False</td>\n",
              "      <td>False</td>\n",
              "      <td>False</td>\n",
              "      <td>False</td>\n",
              "      <td>False</td>\n",
              "      <td>False</td>\n",
              "      <td>False</td>\n",
              "    </tr>\n",
              "    <tr>\n",
              "      <th>2075258</th>\n",
              "      <td>False</td>\n",
              "      <td>False</td>\n",
              "      <td>False</td>\n",
              "      <td>False</td>\n",
              "      <td>False</td>\n",
              "      <td>False</td>\n",
              "      <td>False</td>\n",
              "      <td>False</td>\n",
              "      <td>False</td>\n",
              "    </tr>\n",
              "  </tbody>\n",
              "</table>\n",
              "<p>2075259 rows × 9 columns</p>\n",
              "</div>"
            ],
            "text/plain": [
              "          Date   Time  ...  Sub_metering_2  Sub_metering_3\n",
              "0        False  False  ...           False           False\n",
              "1        False  False  ...           False           False\n",
              "2        False  False  ...           False           False\n",
              "3        False  False  ...           False           False\n",
              "4        False  False  ...           False           False\n",
              "...        ...    ...  ...             ...             ...\n",
              "2075254  False  False  ...           False           False\n",
              "2075255  False  False  ...           False           False\n",
              "2075256  False  False  ...           False           False\n",
              "2075257  False  False  ...           False           False\n",
              "2075258  False  False  ...           False           False\n",
              "\n",
              "[2075259 rows x 9 columns]"
            ]
          },
          "metadata": {
            "tags": []
          },
          "execution_count": 7
        }
      ]
    },
    {
      "cell_type": "code",
      "metadata": {
        "id": "n_qm_AnZb6MS",
        "colab_type": "code",
        "outputId": "c88644e7-24dd-4427-afc1-5b8c55a2528d",
        "colab": {
          "base_uri": "https://localhost:8080/",
          "height": 106
        }
      },
      "source": [
        "df.loc[df[\"Sub_metering_3\"].isnull(), ].head(2)"
      ],
      "execution_count": 0,
      "outputs": [
        {
          "output_type": "execute_result",
          "data": {
            "text/html": [
              "<div>\n",
              "<style scoped>\n",
              "    .dataframe tbody tr th:only-of-type {\n",
              "        vertical-align: middle;\n",
              "    }\n",
              "\n",
              "    .dataframe tbody tr th {\n",
              "        vertical-align: top;\n",
              "    }\n",
              "\n",
              "    .dataframe thead th {\n",
              "        text-align: right;\n",
              "    }\n",
              "</style>\n",
              "<table border=\"1\" class=\"dataframe\">\n",
              "  <thead>\n",
              "    <tr style=\"text-align: right;\">\n",
              "      <th></th>\n",
              "      <th>Date</th>\n",
              "      <th>Time</th>\n",
              "      <th>Global_active_power</th>\n",
              "      <th>Global_reactive_power</th>\n",
              "      <th>Voltage</th>\n",
              "      <th>Global_intensity</th>\n",
              "      <th>Sub_metering_1</th>\n",
              "      <th>Sub_metering_2</th>\n",
              "      <th>Sub_metering_3</th>\n",
              "    </tr>\n",
              "  </thead>\n",
              "  <tbody>\n",
              "    <tr>\n",
              "      <th>6839</th>\n",
              "      <td>21/12/2006</td>\n",
              "      <td>11:23:00</td>\n",
              "      <td>?</td>\n",
              "      <td>?</td>\n",
              "      <td>?</td>\n",
              "      <td>?</td>\n",
              "      <td>?</td>\n",
              "      <td>?</td>\n",
              "      <td>NaN</td>\n",
              "    </tr>\n",
              "    <tr>\n",
              "      <th>6840</th>\n",
              "      <td>21/12/2006</td>\n",
              "      <td>11:24:00</td>\n",
              "      <td>?</td>\n",
              "      <td>?</td>\n",
              "      <td>?</td>\n",
              "      <td>?</td>\n",
              "      <td>?</td>\n",
              "      <td>?</td>\n",
              "      <td>NaN</td>\n",
              "    </tr>\n",
              "  </tbody>\n",
              "</table>\n",
              "</div>"
            ],
            "text/plain": [
              "            Date      Time  ... Sub_metering_2 Sub_metering_3\n",
              "6839  21/12/2006  11:23:00  ...              ?            NaN\n",
              "6840  21/12/2006  11:24:00  ...              ?            NaN\n",
              "\n",
              "[2 rows x 9 columns]"
            ]
          },
          "metadata": {
            "tags": []
          },
          "execution_count": 8
        }
      ]
    },
    {
      "cell_type": "code",
      "metadata": {
        "id": "JyDLdvuwcOeM",
        "colab_type": "code",
        "outputId": "f2ae87e5-7135-41e1-c523-088512e40e62",
        "colab": {
          "base_uri": "https://localhost:8080/",
          "height": 263
        }
      },
      "source": [
        "df.info()"
      ],
      "execution_count": 0,
      "outputs": [
        {
          "output_type": "stream",
          "text": [
            "<class 'pandas.core.frame.DataFrame'>\n",
            "RangeIndex: 2075259 entries, 0 to 2075258\n",
            "Data columns (total 9 columns):\n",
            "Date                     object\n",
            "Time                     object\n",
            "Global_active_power      object\n",
            "Global_reactive_power    object\n",
            "Voltage                  object\n",
            "Global_intensity         object\n",
            "Sub_metering_1           object\n",
            "Sub_metering_2           object\n",
            "Sub_metering_3           float64\n",
            "dtypes: float64(1), object(8)\n",
            "memory usage: 142.5+ MB\n"
          ],
          "name": "stdout"
        }
      ]
    },
    {
      "cell_type": "code",
      "metadata": {
        "id": "SXEfAlqOcW0U",
        "colab_type": "code",
        "colab": {}
      },
      "source": [
        "df.replace('?', np.nan, inplace=True)"
      ],
      "execution_count": 0,
      "outputs": []
    },
    {
      "cell_type": "code",
      "metadata": {
        "id": "pNwjVMaPcc14",
        "colab_type": "code",
        "outputId": "2bd77c71-6f69-4967-c162-d0d8b1162322",
        "colab": {
          "base_uri": "https://localhost:8080/",
          "height": 193
        }
      },
      "source": [
        "df.isnull().sum()"
      ],
      "execution_count": 0,
      "outputs": [
        {
          "output_type": "execute_result",
          "data": {
            "text/plain": [
              "Date                         0\n",
              "Time                         0\n",
              "Global_active_power      25979\n",
              "Global_reactive_power    25979\n",
              "Voltage                  25979\n",
              "Global_intensity         25979\n",
              "Sub_metering_1           25979\n",
              "Sub_metering_2           25979\n",
              "Sub_metering_3           25979\n",
              "dtype: int64"
            ]
          },
          "metadata": {
            "tags": []
          },
          "execution_count": 11
        }
      ]
    },
    {
      "cell_type": "code",
      "metadata": {
        "id": "qecoTdYTciyQ",
        "colab_type": "code",
        "outputId": "148ccd03-42b7-46fd-b759-d364e27abee2",
        "colab": {
          "base_uri": "https://localhost:8080/",
          "height": 106
        }
      },
      "source": [
        "df.loc[df[\"Sub_metering_3\"].isnull(), ].head(2)"
      ],
      "execution_count": 0,
      "outputs": [
        {
          "output_type": "execute_result",
          "data": {
            "text/html": [
              "<div>\n",
              "<style scoped>\n",
              "    .dataframe tbody tr th:only-of-type {\n",
              "        vertical-align: middle;\n",
              "    }\n",
              "\n",
              "    .dataframe tbody tr th {\n",
              "        vertical-align: top;\n",
              "    }\n",
              "\n",
              "    .dataframe thead th {\n",
              "        text-align: right;\n",
              "    }\n",
              "</style>\n",
              "<table border=\"1\" class=\"dataframe\">\n",
              "  <thead>\n",
              "    <tr style=\"text-align: right;\">\n",
              "      <th></th>\n",
              "      <th>Date</th>\n",
              "      <th>Time</th>\n",
              "      <th>Global_active_power</th>\n",
              "      <th>Global_reactive_power</th>\n",
              "      <th>Voltage</th>\n",
              "      <th>Global_intensity</th>\n",
              "      <th>Sub_metering_1</th>\n",
              "      <th>Sub_metering_2</th>\n",
              "      <th>Sub_metering_3</th>\n",
              "    </tr>\n",
              "  </thead>\n",
              "  <tbody>\n",
              "    <tr>\n",
              "      <th>6839</th>\n",
              "      <td>21/12/2006</td>\n",
              "      <td>11:23:00</td>\n",
              "      <td>NaN</td>\n",
              "      <td>NaN</td>\n",
              "      <td>NaN</td>\n",
              "      <td>NaN</td>\n",
              "      <td>NaN</td>\n",
              "      <td>NaN</td>\n",
              "      <td>NaN</td>\n",
              "    </tr>\n",
              "    <tr>\n",
              "      <th>6840</th>\n",
              "      <td>21/12/2006</td>\n",
              "      <td>11:24:00</td>\n",
              "      <td>NaN</td>\n",
              "      <td>NaN</td>\n",
              "      <td>NaN</td>\n",
              "      <td>NaN</td>\n",
              "      <td>NaN</td>\n",
              "      <td>NaN</td>\n",
              "      <td>NaN</td>\n",
              "    </tr>\n",
              "  </tbody>\n",
              "</table>\n",
              "</div>"
            ],
            "text/plain": [
              "            Date      Time  ... Sub_metering_2 Sub_metering_3\n",
              "6839  21/12/2006  11:23:00  ...            NaN            NaN\n",
              "6840  21/12/2006  11:24:00  ...            NaN            NaN\n",
              "\n",
              "[2 rows x 9 columns]"
            ]
          },
          "metadata": {
            "tags": []
          },
          "execution_count": 12
        }
      ]
    },
    {
      "cell_type": "code",
      "metadata": {
        "id": "DkumL58vcoUE",
        "colab_type": "code",
        "outputId": "ed6ce822-f610-4211-fe7e-0ac0eedcdb82",
        "colab": {
          "base_uri": "https://localhost:8080/",
          "height": 284
        }
      },
      "source": [
        "df.describe()"
      ],
      "execution_count": 0,
      "outputs": [
        {
          "output_type": "execute_result",
          "data": {
            "text/html": [
              "<div>\n",
              "<style scoped>\n",
              "    .dataframe tbody tr th:only-of-type {\n",
              "        vertical-align: middle;\n",
              "    }\n",
              "\n",
              "    .dataframe tbody tr th {\n",
              "        vertical-align: top;\n",
              "    }\n",
              "\n",
              "    .dataframe thead th {\n",
              "        text-align: right;\n",
              "    }\n",
              "</style>\n",
              "<table border=\"1\" class=\"dataframe\">\n",
              "  <thead>\n",
              "    <tr style=\"text-align: right;\">\n",
              "      <th></th>\n",
              "      <th>Sub_metering_3</th>\n",
              "    </tr>\n",
              "  </thead>\n",
              "  <tbody>\n",
              "    <tr>\n",
              "      <th>count</th>\n",
              "      <td>2.049280e+06</td>\n",
              "    </tr>\n",
              "    <tr>\n",
              "      <th>mean</th>\n",
              "      <td>6.458447e+00</td>\n",
              "    </tr>\n",
              "    <tr>\n",
              "      <th>std</th>\n",
              "      <td>8.437154e+00</td>\n",
              "    </tr>\n",
              "    <tr>\n",
              "      <th>min</th>\n",
              "      <td>0.000000e+00</td>\n",
              "    </tr>\n",
              "    <tr>\n",
              "      <th>25%</th>\n",
              "      <td>0.000000e+00</td>\n",
              "    </tr>\n",
              "    <tr>\n",
              "      <th>50%</th>\n",
              "      <td>1.000000e+00</td>\n",
              "    </tr>\n",
              "    <tr>\n",
              "      <th>75%</th>\n",
              "      <td>1.700000e+01</td>\n",
              "    </tr>\n",
              "    <tr>\n",
              "      <th>max</th>\n",
              "      <td>3.100000e+01</td>\n",
              "    </tr>\n",
              "  </tbody>\n",
              "</table>\n",
              "</div>"
            ],
            "text/plain": [
              "       Sub_metering_3\n",
              "count    2.049280e+06\n",
              "mean     6.458447e+00\n",
              "std      8.437154e+00\n",
              "min      0.000000e+00\n",
              "25%      0.000000e+00\n",
              "50%      1.000000e+00\n",
              "75%      1.700000e+01\n",
              "max      3.100000e+01"
            ]
          },
          "metadata": {
            "tags": []
          },
          "execution_count": 14
        }
      ]
    },
    {
      "cell_type": "code",
      "metadata": {
        "id": "bC6FIZL5cvZ8",
        "colab_type": "code",
        "outputId": "7949fcb6-45db-4604-fa98-9f8c0a462f71",
        "colab": {
          "base_uri": "https://localhost:8080/",
          "height": 87
        }
      },
      "source": [
        "df.columns"
      ],
      "execution_count": 0,
      "outputs": [
        {
          "output_type": "execute_result",
          "data": {
            "text/plain": [
              "Index(['Date', 'Time', 'Global_active_power', 'Global_reactive_power',\n",
              "       'Voltage', 'Global_intensity', 'Sub_metering_1', 'Sub_metering_2',\n",
              "       'Sub_metering_3'],\n",
              "      dtype='object')"
            ]
          },
          "metadata": {
            "tags": []
          },
          "execution_count": 15
        }
      ]
    },
    {
      "cell_type": "code",
      "metadata": {
        "id": "eH3x8gq-c1AU",
        "colab_type": "code",
        "outputId": "edb24133-7d3a-4287-cd51-4c0a99d0f871",
        "colab": {
          "base_uri": "https://localhost:8080/",
          "height": 34
        }
      },
      "source": [
        "df.columns[2]"
      ],
      "execution_count": 0,
      "outputs": [
        {
          "output_type": "execute_result",
          "data": {
            "text/plain": [
              "'Global_active_power'"
            ]
          },
          "metadata": {
            "tags": []
          },
          "execution_count": 16
        }
      ]
    },
    {
      "cell_type": "code",
      "metadata": {
        "id": "4U4ubbgvc5Lt",
        "colab_type": "code",
        "colab": {}
      },
      "source": [
        "for i in range(2, len(df.columns)):\n",
        "  column = df.columns[i]\n",
        "  df[column] = df[column].astype(\"float64\")"
      ],
      "execution_count": 0,
      "outputs": []
    },
    {
      "cell_type": "code",
      "metadata": {
        "id": "-e0KcTJ_dSE3",
        "colab_type": "code",
        "outputId": "dab6d1f0-0cf2-48e9-97d4-0e24afac91c3",
        "colab": {
          "base_uri": "https://localhost:8080/",
          "height": 263
        }
      },
      "source": [
        "df.info()"
      ],
      "execution_count": 0,
      "outputs": [
        {
          "output_type": "stream",
          "text": [
            "<class 'pandas.core.frame.DataFrame'>\n",
            "RangeIndex: 2075259 entries, 0 to 2075258\n",
            "Data columns (total 9 columns):\n",
            "Date                     object\n",
            "Time                     object\n",
            "Global_active_power      float64\n",
            "Global_reactive_power    float64\n",
            "Voltage                  float64\n",
            "Global_intensity         float64\n",
            "Sub_metering_1           float64\n",
            "Sub_metering_2           float64\n",
            "Sub_metering_3           float64\n",
            "dtypes: float64(7), object(2)\n",
            "memory usage: 142.5+ MB\n"
          ],
          "name": "stdout"
        }
      ]
    },
    {
      "cell_type": "code",
      "metadata": {
        "id": "zWymnrDRdXQW",
        "colab_type": "code",
        "outputId": "6dbf6b2d-ff5d-420c-f69d-a4b2d3ee9790",
        "colab": {
          "base_uri": "https://localhost:8080/",
          "height": 284
        }
      },
      "source": [
        "df.describe()"
      ],
      "execution_count": 0,
      "outputs": [
        {
          "output_type": "execute_result",
          "data": {
            "text/html": [
              "<div>\n",
              "<style scoped>\n",
              "    .dataframe tbody tr th:only-of-type {\n",
              "        vertical-align: middle;\n",
              "    }\n",
              "\n",
              "    .dataframe tbody tr th {\n",
              "        vertical-align: top;\n",
              "    }\n",
              "\n",
              "    .dataframe thead th {\n",
              "        text-align: right;\n",
              "    }\n",
              "</style>\n",
              "<table border=\"1\" class=\"dataframe\">\n",
              "  <thead>\n",
              "    <tr style=\"text-align: right;\">\n",
              "      <th></th>\n",
              "      <th>Global_active_power</th>\n",
              "      <th>Global_reactive_power</th>\n",
              "      <th>Voltage</th>\n",
              "      <th>Global_intensity</th>\n",
              "      <th>Sub_metering_1</th>\n",
              "      <th>Sub_metering_2</th>\n",
              "      <th>Sub_metering_3</th>\n",
              "    </tr>\n",
              "  </thead>\n",
              "  <tbody>\n",
              "    <tr>\n",
              "      <th>count</th>\n",
              "      <td>2.049280e+06</td>\n",
              "      <td>2.049280e+06</td>\n",
              "      <td>2.049280e+06</td>\n",
              "      <td>2.049280e+06</td>\n",
              "      <td>2.049280e+06</td>\n",
              "      <td>2.049280e+06</td>\n",
              "      <td>2.049280e+06</td>\n",
              "    </tr>\n",
              "    <tr>\n",
              "      <th>mean</th>\n",
              "      <td>1.091615e+00</td>\n",
              "      <td>1.237145e-01</td>\n",
              "      <td>2.408399e+02</td>\n",
              "      <td>4.627759e+00</td>\n",
              "      <td>1.121923e+00</td>\n",
              "      <td>1.298520e+00</td>\n",
              "      <td>6.458447e+00</td>\n",
              "    </tr>\n",
              "    <tr>\n",
              "      <th>std</th>\n",
              "      <td>1.057294e+00</td>\n",
              "      <td>1.127220e-01</td>\n",
              "      <td>3.239987e+00</td>\n",
              "      <td>4.444396e+00</td>\n",
              "      <td>6.153031e+00</td>\n",
              "      <td>5.822026e+00</td>\n",
              "      <td>8.437154e+00</td>\n",
              "    </tr>\n",
              "    <tr>\n",
              "      <th>min</th>\n",
              "      <td>7.600000e-02</td>\n",
              "      <td>0.000000e+00</td>\n",
              "      <td>2.232000e+02</td>\n",
              "      <td>2.000000e-01</td>\n",
              "      <td>0.000000e+00</td>\n",
              "      <td>0.000000e+00</td>\n",
              "      <td>0.000000e+00</td>\n",
              "    </tr>\n",
              "    <tr>\n",
              "      <th>25%</th>\n",
              "      <td>3.080000e-01</td>\n",
              "      <td>4.800000e-02</td>\n",
              "      <td>2.389900e+02</td>\n",
              "      <td>1.400000e+00</td>\n",
              "      <td>0.000000e+00</td>\n",
              "      <td>0.000000e+00</td>\n",
              "      <td>0.000000e+00</td>\n",
              "    </tr>\n",
              "    <tr>\n",
              "      <th>50%</th>\n",
              "      <td>6.020000e-01</td>\n",
              "      <td>1.000000e-01</td>\n",
              "      <td>2.410100e+02</td>\n",
              "      <td>2.600000e+00</td>\n",
              "      <td>0.000000e+00</td>\n",
              "      <td>0.000000e+00</td>\n",
              "      <td>1.000000e+00</td>\n",
              "    </tr>\n",
              "    <tr>\n",
              "      <th>75%</th>\n",
              "      <td>1.528000e+00</td>\n",
              "      <td>1.940000e-01</td>\n",
              "      <td>2.428900e+02</td>\n",
              "      <td>6.400000e+00</td>\n",
              "      <td>0.000000e+00</td>\n",
              "      <td>1.000000e+00</td>\n",
              "      <td>1.700000e+01</td>\n",
              "    </tr>\n",
              "    <tr>\n",
              "      <th>max</th>\n",
              "      <td>1.112200e+01</td>\n",
              "      <td>1.390000e+00</td>\n",
              "      <td>2.541500e+02</td>\n",
              "      <td>4.840000e+01</td>\n",
              "      <td>8.800000e+01</td>\n",
              "      <td>8.000000e+01</td>\n",
              "      <td>3.100000e+01</td>\n",
              "    </tr>\n",
              "  </tbody>\n",
              "</table>\n",
              "</div>"
            ],
            "text/plain": [
              "       Global_active_power  ...  Sub_metering_3\n",
              "count         2.049280e+06  ...    2.049280e+06\n",
              "mean          1.091615e+00  ...    6.458447e+00\n",
              "std           1.057294e+00  ...    8.437154e+00\n",
              "min           7.600000e-02  ...    0.000000e+00\n",
              "25%           3.080000e-01  ...    0.000000e+00\n",
              "50%           6.020000e-01  ...    1.000000e+00\n",
              "75%           1.528000e+00  ...    1.700000e+01\n",
              "max           1.112200e+01  ...    3.100000e+01\n",
              "\n",
              "[8 rows x 7 columns]"
            ]
          },
          "metadata": {
            "tags": []
          },
          "execution_count": 19
        }
      ]
    },
    {
      "cell_type": "code",
      "metadata": {
        "id": "GJ2Jx6GrdbuH",
        "colab_type": "code",
        "colab": {}
      },
      "source": [
        "for i in range(2, len(df.columns)):\n",
        "    column = df.columns[i]\n",
        "    df.loc[df[column].isnull()==True, column] = np.mean(df[column])"
      ],
      "execution_count": 0,
      "outputs": []
    },
    {
      "cell_type": "code",
      "metadata": {
        "id": "4mmZmi0JdeMY",
        "colab_type": "code",
        "outputId": "48a04f1c-5de1-49f0-f974-e7da93619e53",
        "colab": {
          "base_uri": "https://localhost:8080/",
          "height": 193
        }
      },
      "source": [
        "df.loc[6839, ]"
      ],
      "execution_count": 0,
      "outputs": [
        {
          "output_type": "execute_result",
          "data": {
            "text/plain": [
              "Date                     21/12/2006\n",
              "Time                       11:23:00\n",
              "Global_active_power         1.09162\n",
              "Global_reactive_power      0.123714\n",
              "Voltage                      240.84\n",
              "Global_intensity            4.62776\n",
              "Sub_metering_1              1.12192\n",
              "Sub_metering_2              1.29852\n",
              "Sub_metering_3              6.45845\n",
              "Name: 6839, dtype: object"
            ]
          },
          "metadata": {
            "tags": []
          },
          "execution_count": 21
        }
      ]
    },
    {
      "cell_type": "code",
      "metadata": {
        "id": "3a9gJQc9dflG",
        "colab_type": "code",
        "outputId": "942130c1-d4d2-48be-a7c2-1ada23cce5d1",
        "colab": {
          "base_uri": "https://localhost:8080/",
          "height": 136
        }
      },
      "source": [
        "df.head(3)"
      ],
      "execution_count": 0,
      "outputs": [
        {
          "output_type": "execute_result",
          "data": {
            "text/html": [
              "<div>\n",
              "<style scoped>\n",
              "    .dataframe tbody tr th:only-of-type {\n",
              "        vertical-align: middle;\n",
              "    }\n",
              "\n",
              "    .dataframe tbody tr th {\n",
              "        vertical-align: top;\n",
              "    }\n",
              "\n",
              "    .dataframe thead th {\n",
              "        text-align: right;\n",
              "    }\n",
              "</style>\n",
              "<table border=\"1\" class=\"dataframe\">\n",
              "  <thead>\n",
              "    <tr style=\"text-align: right;\">\n",
              "      <th></th>\n",
              "      <th>Date</th>\n",
              "      <th>Time</th>\n",
              "      <th>Global_active_power</th>\n",
              "      <th>Global_reactive_power</th>\n",
              "      <th>Voltage</th>\n",
              "      <th>Global_intensity</th>\n",
              "      <th>Sub_metering_1</th>\n",
              "      <th>Sub_metering_2</th>\n",
              "      <th>Sub_metering_3</th>\n",
              "    </tr>\n",
              "  </thead>\n",
              "  <tbody>\n",
              "    <tr>\n",
              "      <th>0</th>\n",
              "      <td>16/12/2006</td>\n",
              "      <td>17:24:00</td>\n",
              "      <td>4.216</td>\n",
              "      <td>0.418</td>\n",
              "      <td>234.84</td>\n",
              "      <td>18.4</td>\n",
              "      <td>0.0</td>\n",
              "      <td>1.0</td>\n",
              "      <td>17.0</td>\n",
              "    </tr>\n",
              "    <tr>\n",
              "      <th>1</th>\n",
              "      <td>16/12/2006</td>\n",
              "      <td>17:25:00</td>\n",
              "      <td>5.360</td>\n",
              "      <td>0.436</td>\n",
              "      <td>233.63</td>\n",
              "      <td>23.0</td>\n",
              "      <td>0.0</td>\n",
              "      <td>1.0</td>\n",
              "      <td>16.0</td>\n",
              "    </tr>\n",
              "    <tr>\n",
              "      <th>2</th>\n",
              "      <td>16/12/2006</td>\n",
              "      <td>17:26:00</td>\n",
              "      <td>5.374</td>\n",
              "      <td>0.498</td>\n",
              "      <td>233.29</td>\n",
              "      <td>23.0</td>\n",
              "      <td>0.0</td>\n",
              "      <td>2.0</td>\n",
              "      <td>17.0</td>\n",
              "    </tr>\n",
              "  </tbody>\n",
              "</table>\n",
              "</div>"
            ],
            "text/plain": [
              "         Date      Time  ...  Sub_metering_2  Sub_metering_3\n",
              "0  16/12/2006  17:24:00  ...             1.0            17.0\n",
              "1  16/12/2006  17:25:00  ...             1.0            16.0\n",
              "2  16/12/2006  17:26:00  ...             2.0            17.0\n",
              "\n",
              "[3 rows x 9 columns]"
            ]
          },
          "metadata": {
            "tags": []
          },
          "execution_count": 22
        }
      ]
    },
    {
      "cell_type": "code",
      "metadata": {
        "id": "5IZI5w2wdk6G",
        "colab_type": "code",
        "outputId": "10685fc9-2f01-4292-ae95-d839caeb4589",
        "colab": {
          "base_uri": "https://localhost:8080/",
          "height": 136
        }
      },
      "source": [
        "df[\"dt\"] = df[\"Date\"] +\" \" + df[\"Time\"]\n",
        "df.head(3)"
      ],
      "execution_count": 0,
      "outputs": [
        {
          "output_type": "execute_result",
          "data": {
            "text/html": [
              "<div>\n",
              "<style scoped>\n",
              "    .dataframe tbody tr th:only-of-type {\n",
              "        vertical-align: middle;\n",
              "    }\n",
              "\n",
              "    .dataframe tbody tr th {\n",
              "        vertical-align: top;\n",
              "    }\n",
              "\n",
              "    .dataframe thead th {\n",
              "        text-align: right;\n",
              "    }\n",
              "</style>\n",
              "<table border=\"1\" class=\"dataframe\">\n",
              "  <thead>\n",
              "    <tr style=\"text-align: right;\">\n",
              "      <th></th>\n",
              "      <th>Date</th>\n",
              "      <th>Time</th>\n",
              "      <th>Global_active_power</th>\n",
              "      <th>Global_reactive_power</th>\n",
              "      <th>Voltage</th>\n",
              "      <th>Global_intensity</th>\n",
              "      <th>Sub_metering_1</th>\n",
              "      <th>Sub_metering_2</th>\n",
              "      <th>Sub_metering_3</th>\n",
              "      <th>dt</th>\n",
              "    </tr>\n",
              "  </thead>\n",
              "  <tbody>\n",
              "    <tr>\n",
              "      <th>0</th>\n",
              "      <td>16/12/2006</td>\n",
              "      <td>17:24:00</td>\n",
              "      <td>4.216</td>\n",
              "      <td>0.418</td>\n",
              "      <td>234.84</td>\n",
              "      <td>18.4</td>\n",
              "      <td>0.0</td>\n",
              "      <td>1.0</td>\n",
              "      <td>17.0</td>\n",
              "      <td>16/12/2006 17:24:00</td>\n",
              "    </tr>\n",
              "    <tr>\n",
              "      <th>1</th>\n",
              "      <td>16/12/2006</td>\n",
              "      <td>17:25:00</td>\n",
              "      <td>5.360</td>\n",
              "      <td>0.436</td>\n",
              "      <td>233.63</td>\n",
              "      <td>23.0</td>\n",
              "      <td>0.0</td>\n",
              "      <td>1.0</td>\n",
              "      <td>16.0</td>\n",
              "      <td>16/12/2006 17:25:00</td>\n",
              "    </tr>\n",
              "    <tr>\n",
              "      <th>2</th>\n",
              "      <td>16/12/2006</td>\n",
              "      <td>17:26:00</td>\n",
              "      <td>5.374</td>\n",
              "      <td>0.498</td>\n",
              "      <td>233.29</td>\n",
              "      <td>23.0</td>\n",
              "      <td>0.0</td>\n",
              "      <td>2.0</td>\n",
              "      <td>17.0</td>\n",
              "      <td>16/12/2006 17:26:00</td>\n",
              "    </tr>\n",
              "  </tbody>\n",
              "</table>\n",
              "</div>"
            ],
            "text/plain": [
              "         Date      Time  ...  Sub_metering_3                   dt\n",
              "0  16/12/2006  17:24:00  ...            17.0  16/12/2006 17:24:00\n",
              "1  16/12/2006  17:25:00  ...            16.0  16/12/2006 17:25:00\n",
              "2  16/12/2006  17:26:00  ...            17.0  16/12/2006 17:26:00\n",
              "\n",
              "[3 rows x 10 columns]"
            ]
          },
          "metadata": {
            "tags": []
          },
          "execution_count": 23
        }
      ]
    },
    {
      "cell_type": "code",
      "metadata": {
        "id": "ToNW09KJdyxk",
        "colab_type": "code",
        "outputId": "aa73ea30-2ec0-4801-add3-a78ff70525ac",
        "colab": {
          "base_uri": "https://localhost:8080/",
          "height": 228
        }
      },
      "source": [
        "idx = pd.to_datetime(df[\"dt\"])\n",
        "idx"
      ],
      "execution_count": 0,
      "outputs": [
        {
          "output_type": "execute_result",
          "data": {
            "text/plain": [
              "0         2006-12-16 17:24:00\n",
              "1         2006-12-16 17:25:00\n",
              "2         2006-12-16 17:26:00\n",
              "3         2006-12-16 17:27:00\n",
              "4         2006-12-16 17:28:00\n",
              "                  ...        \n",
              "2075254   2010-11-26 20:58:00\n",
              "2075255   2010-11-26 20:59:00\n",
              "2075256   2010-11-26 21:00:00\n",
              "2075257   2010-11-26 21:01:00\n",
              "2075258   2010-11-26 21:02:00\n",
              "Name: dt, Length: 2075259, dtype: datetime64[ns]"
            ]
          },
          "metadata": {
            "tags": []
          },
          "execution_count": 24
        }
      ]
    },
    {
      "cell_type": "code",
      "metadata": {
        "id": "t-0eNdsue_ud",
        "colab_type": "code",
        "outputId": "8b83f1ad-384a-42c9-e8d3-a7e042c6baf8",
        "colab": {
          "base_uri": "https://localhost:8080/",
          "height": 166
        }
      },
      "source": [
        "df = df.set_index(idx)\n",
        "df.head(3)"
      ],
      "execution_count": 0,
      "outputs": [
        {
          "output_type": "execute_result",
          "data": {
            "text/html": [
              "<div>\n",
              "<style scoped>\n",
              "    .dataframe tbody tr th:only-of-type {\n",
              "        vertical-align: middle;\n",
              "    }\n",
              "\n",
              "    .dataframe tbody tr th {\n",
              "        vertical-align: top;\n",
              "    }\n",
              "\n",
              "    .dataframe thead th {\n",
              "        text-align: right;\n",
              "    }\n",
              "</style>\n",
              "<table border=\"1\" class=\"dataframe\">\n",
              "  <thead>\n",
              "    <tr style=\"text-align: right;\">\n",
              "      <th></th>\n",
              "      <th>Date</th>\n",
              "      <th>Time</th>\n",
              "      <th>Global_active_power</th>\n",
              "      <th>Global_reactive_power</th>\n",
              "      <th>Voltage</th>\n",
              "      <th>Global_intensity</th>\n",
              "      <th>Sub_metering_1</th>\n",
              "      <th>Sub_metering_2</th>\n",
              "      <th>Sub_metering_3</th>\n",
              "      <th>dt</th>\n",
              "    </tr>\n",
              "    <tr>\n",
              "      <th>dt</th>\n",
              "      <th></th>\n",
              "      <th></th>\n",
              "      <th></th>\n",
              "      <th></th>\n",
              "      <th></th>\n",
              "      <th></th>\n",
              "      <th></th>\n",
              "      <th></th>\n",
              "      <th></th>\n",
              "      <th></th>\n",
              "    </tr>\n",
              "  </thead>\n",
              "  <tbody>\n",
              "    <tr>\n",
              "      <th>2006-12-16 17:24:00</th>\n",
              "      <td>16/12/2006</td>\n",
              "      <td>17:24:00</td>\n",
              "      <td>4.216</td>\n",
              "      <td>0.418</td>\n",
              "      <td>234.84</td>\n",
              "      <td>18.4</td>\n",
              "      <td>0.0</td>\n",
              "      <td>1.0</td>\n",
              "      <td>17.0</td>\n",
              "      <td>16/12/2006 17:24:00</td>\n",
              "    </tr>\n",
              "    <tr>\n",
              "      <th>2006-12-16 17:25:00</th>\n",
              "      <td>16/12/2006</td>\n",
              "      <td>17:25:00</td>\n",
              "      <td>5.360</td>\n",
              "      <td>0.436</td>\n",
              "      <td>233.63</td>\n",
              "      <td>23.0</td>\n",
              "      <td>0.0</td>\n",
              "      <td>1.0</td>\n",
              "      <td>16.0</td>\n",
              "      <td>16/12/2006 17:25:00</td>\n",
              "    </tr>\n",
              "    <tr>\n",
              "      <th>2006-12-16 17:26:00</th>\n",
              "      <td>16/12/2006</td>\n",
              "      <td>17:26:00</td>\n",
              "      <td>5.374</td>\n",
              "      <td>0.498</td>\n",
              "      <td>233.29</td>\n",
              "      <td>23.0</td>\n",
              "      <td>0.0</td>\n",
              "      <td>2.0</td>\n",
              "      <td>17.0</td>\n",
              "      <td>16/12/2006 17:26:00</td>\n",
              "    </tr>\n",
              "  </tbody>\n",
              "</table>\n",
              "</div>"
            ],
            "text/plain": [
              "                           Date      Time  ...  Sub_metering_3                   dt\n",
              "dt                                         ...                                     \n",
              "2006-12-16 17:24:00  16/12/2006  17:24:00  ...            17.0  16/12/2006 17:24:00\n",
              "2006-12-16 17:25:00  16/12/2006  17:25:00  ...            16.0  16/12/2006 17:25:00\n",
              "2006-12-16 17:26:00  16/12/2006  17:26:00  ...            17.0  16/12/2006 17:26:00\n",
              "\n",
              "[3 rows x 10 columns]"
            ]
          },
          "metadata": {
            "tags": []
          },
          "execution_count": 25
        }
      ]
    },
    {
      "cell_type": "code",
      "metadata": {
        "id": "X74xPacsfJJJ",
        "colab_type": "code",
        "outputId": "9f58e28b-6f83-402f-8adc-7ec4a93006a2",
        "colab": {
          "base_uri": "https://localhost:8080/",
          "height": 166
        }
      },
      "source": [
        "df.drop([\"Date\", \"Time\", \"dt\"], axis=1, inplace=True)\n",
        "df.head(3)"
      ],
      "execution_count": 0,
      "outputs": [
        {
          "output_type": "execute_result",
          "data": {
            "text/html": [
              "<div>\n",
              "<style scoped>\n",
              "    .dataframe tbody tr th:only-of-type {\n",
              "        vertical-align: middle;\n",
              "    }\n",
              "\n",
              "    .dataframe tbody tr th {\n",
              "        vertical-align: top;\n",
              "    }\n",
              "\n",
              "    .dataframe thead th {\n",
              "        text-align: right;\n",
              "    }\n",
              "</style>\n",
              "<table border=\"1\" class=\"dataframe\">\n",
              "  <thead>\n",
              "    <tr style=\"text-align: right;\">\n",
              "      <th></th>\n",
              "      <th>Global_active_power</th>\n",
              "      <th>Global_reactive_power</th>\n",
              "      <th>Voltage</th>\n",
              "      <th>Global_intensity</th>\n",
              "      <th>Sub_metering_1</th>\n",
              "      <th>Sub_metering_2</th>\n",
              "      <th>Sub_metering_3</th>\n",
              "    </tr>\n",
              "    <tr>\n",
              "      <th>dt</th>\n",
              "      <th></th>\n",
              "      <th></th>\n",
              "      <th></th>\n",
              "      <th></th>\n",
              "      <th></th>\n",
              "      <th></th>\n",
              "      <th></th>\n",
              "    </tr>\n",
              "  </thead>\n",
              "  <tbody>\n",
              "    <tr>\n",
              "      <th>2006-12-16 17:24:00</th>\n",
              "      <td>4.216</td>\n",
              "      <td>0.418</td>\n",
              "      <td>234.84</td>\n",
              "      <td>18.4</td>\n",
              "      <td>0.0</td>\n",
              "      <td>1.0</td>\n",
              "      <td>17.0</td>\n",
              "    </tr>\n",
              "    <tr>\n",
              "      <th>2006-12-16 17:25:00</th>\n",
              "      <td>5.360</td>\n",
              "      <td>0.436</td>\n",
              "      <td>233.63</td>\n",
              "      <td>23.0</td>\n",
              "      <td>0.0</td>\n",
              "      <td>1.0</td>\n",
              "      <td>16.0</td>\n",
              "    </tr>\n",
              "    <tr>\n",
              "      <th>2006-12-16 17:26:00</th>\n",
              "      <td>5.374</td>\n",
              "      <td>0.498</td>\n",
              "      <td>233.29</td>\n",
              "      <td>23.0</td>\n",
              "      <td>0.0</td>\n",
              "      <td>2.0</td>\n",
              "      <td>17.0</td>\n",
              "    </tr>\n",
              "  </tbody>\n",
              "</table>\n",
              "</div>"
            ],
            "text/plain": [
              "                     Global_active_power  ...  Sub_metering_3\n",
              "dt                                        ...                \n",
              "2006-12-16 17:24:00                4.216  ...            17.0\n",
              "2006-12-16 17:25:00                5.360  ...            16.0\n",
              "2006-12-16 17:26:00                5.374  ...            17.0\n",
              "\n",
              "[3 rows x 7 columns]"
            ]
          },
          "metadata": {
            "tags": []
          },
          "execution_count": 26
        }
      ]
    },
    {
      "cell_type": "code",
      "metadata": {
        "id": "E8pssVkRfPao",
        "colab_type": "code",
        "outputId": "a2d7cdc1-4d08-430e-9d83-5ef32b234404",
        "colab": {
          "base_uri": "https://localhost:8080/",
          "height": 225
        }
      },
      "source": [
        "df_resample = df.resample(\"h\").mean()\n",
        "df_resample.head()"
      ],
      "execution_count": 0,
      "outputs": [
        {
          "output_type": "execute_result",
          "data": {
            "text/html": [
              "<div>\n",
              "<style scoped>\n",
              "    .dataframe tbody tr th:only-of-type {\n",
              "        vertical-align: middle;\n",
              "    }\n",
              "\n",
              "    .dataframe tbody tr th {\n",
              "        vertical-align: top;\n",
              "    }\n",
              "\n",
              "    .dataframe thead th {\n",
              "        text-align: right;\n",
              "    }\n",
              "</style>\n",
              "<table border=\"1\" class=\"dataframe\">\n",
              "  <thead>\n",
              "    <tr style=\"text-align: right;\">\n",
              "      <th></th>\n",
              "      <th>Global_active_power</th>\n",
              "      <th>Global_reactive_power</th>\n",
              "      <th>Voltage</th>\n",
              "      <th>Global_intensity</th>\n",
              "      <th>Sub_metering_1</th>\n",
              "      <th>Sub_metering_2</th>\n",
              "      <th>Sub_metering_3</th>\n",
              "    </tr>\n",
              "    <tr>\n",
              "      <th>dt</th>\n",
              "      <th></th>\n",
              "      <th></th>\n",
              "      <th></th>\n",
              "      <th></th>\n",
              "      <th></th>\n",
              "      <th></th>\n",
              "      <th></th>\n",
              "    </tr>\n",
              "  </thead>\n",
              "  <tbody>\n",
              "    <tr>\n",
              "      <th>2006-12-16 17:00:00</th>\n",
              "      <td>4.222889</td>\n",
              "      <td>0.229000</td>\n",
              "      <td>234.643889</td>\n",
              "      <td>18.100000</td>\n",
              "      <td>0.0</td>\n",
              "      <td>0.527778</td>\n",
              "      <td>16.861111</td>\n",
              "    </tr>\n",
              "    <tr>\n",
              "      <th>2006-12-16 18:00:00</th>\n",
              "      <td>3.632200</td>\n",
              "      <td>0.080033</td>\n",
              "      <td>234.580167</td>\n",
              "      <td>15.600000</td>\n",
              "      <td>0.0</td>\n",
              "      <td>6.716667</td>\n",
              "      <td>16.866667</td>\n",
              "    </tr>\n",
              "    <tr>\n",
              "      <th>2006-12-16 19:00:00</th>\n",
              "      <td>3.400233</td>\n",
              "      <td>0.085233</td>\n",
              "      <td>233.232500</td>\n",
              "      <td>14.503333</td>\n",
              "      <td>0.0</td>\n",
              "      <td>1.433333</td>\n",
              "      <td>16.683333</td>\n",
              "    </tr>\n",
              "    <tr>\n",
              "      <th>2006-12-16 20:00:00</th>\n",
              "      <td>3.268567</td>\n",
              "      <td>0.075100</td>\n",
              "      <td>234.071500</td>\n",
              "      <td>13.916667</td>\n",
              "      <td>0.0</td>\n",
              "      <td>0.000000</td>\n",
              "      <td>16.783333</td>\n",
              "    </tr>\n",
              "    <tr>\n",
              "      <th>2006-12-16 21:00:00</th>\n",
              "      <td>3.056467</td>\n",
              "      <td>0.076667</td>\n",
              "      <td>237.158667</td>\n",
              "      <td>13.046667</td>\n",
              "      <td>0.0</td>\n",
              "      <td>0.416667</td>\n",
              "      <td>17.216667</td>\n",
              "    </tr>\n",
              "  </tbody>\n",
              "</table>\n",
              "</div>"
            ],
            "text/plain": [
              "                     Global_active_power  ...  Sub_metering_3\n",
              "dt                                        ...                \n",
              "2006-12-16 17:00:00             4.222889  ...       16.861111\n",
              "2006-12-16 18:00:00             3.632200  ...       16.866667\n",
              "2006-12-16 19:00:00             3.400233  ...       16.683333\n",
              "2006-12-16 20:00:00             3.268567  ...       16.783333\n",
              "2006-12-16 21:00:00             3.056467  ...       17.216667\n",
              "\n",
              "[5 rows x 7 columns]"
            ]
          },
          "metadata": {
            "tags": []
          },
          "execution_count": 32
        }
      ]
    },
    {
      "cell_type": "code",
      "metadata": {
        "id": "cIKxAoxnfV5v",
        "colab_type": "code",
        "outputId": "de5b8e50-a154-4c1c-8f9d-2eadfcd6f719",
        "colab": {
          "base_uri": "https://localhost:8080/",
          "height": 225
        }
      },
      "source": [
        "df_resample2 = df.resample(\"W\").mean()\n",
        "df_resample2.head()"
      ],
      "execution_count": 0,
      "outputs": [
        {
          "output_type": "execute_result",
          "data": {
            "text/html": [
              "<div>\n",
              "<style scoped>\n",
              "    .dataframe tbody tr th:only-of-type {\n",
              "        vertical-align: middle;\n",
              "    }\n",
              "\n",
              "    .dataframe tbody tr th {\n",
              "        vertical-align: top;\n",
              "    }\n",
              "\n",
              "    .dataframe thead th {\n",
              "        text-align: right;\n",
              "    }\n",
              "</style>\n",
              "<table border=\"1\" class=\"dataframe\">\n",
              "  <thead>\n",
              "    <tr style=\"text-align: right;\">\n",
              "      <th></th>\n",
              "      <th>Global_active_power</th>\n",
              "      <th>Global_reactive_power</th>\n",
              "      <th>Voltage</th>\n",
              "      <th>Global_intensity</th>\n",
              "      <th>Sub_metering_1</th>\n",
              "      <th>Sub_metering_2</th>\n",
              "      <th>Sub_metering_3</th>\n",
              "    </tr>\n",
              "    <tr>\n",
              "      <th>dt</th>\n",
              "      <th></th>\n",
              "      <th></th>\n",
              "      <th></th>\n",
              "      <th></th>\n",
              "      <th></th>\n",
              "      <th></th>\n",
              "      <th></th>\n",
              "    </tr>\n",
              "  </thead>\n",
              "  <tbody>\n",
              "    <tr>\n",
              "      <th>2006-12-17</th>\n",
              "      <td>2.505248</td>\n",
              "      <td>0.142118</td>\n",
              "      <td>239.258088</td>\n",
              "      <td>10.664161</td>\n",
              "      <td>1.107298</td>\n",
              "      <td>2.577887</td>\n",
              "      <td>9.949346</td>\n",
              "    </tr>\n",
              "    <tr>\n",
              "      <th>2006-12-24</th>\n",
              "      <td>1.734059</td>\n",
              "      <td>0.116708</td>\n",
              "      <td>241.369629</td>\n",
              "      <td>7.341434</td>\n",
              "      <td>1.110342</td>\n",
              "      <td>2.118412</td>\n",
              "      <td>7.684516</td>\n",
              "    </tr>\n",
              "    <tr>\n",
              "      <th>2006-12-31</th>\n",
              "      <td>1.958204</td>\n",
              "      <td>0.144105</td>\n",
              "      <td>241.910007</td>\n",
              "      <td>8.237327</td>\n",
              "      <td>1.412623</td>\n",
              "      <td>2.245099</td>\n",
              "      <td>6.671619</td>\n",
              "    </tr>\n",
              "    <tr>\n",
              "      <th>2007-01-07</th>\n",
              "      <td>1.152164</td>\n",
              "      <td>0.109719</td>\n",
              "      <td>238.848573</td>\n",
              "      <td>4.885499</td>\n",
              "      <td>1.068861</td>\n",
              "      <td>0.860149</td>\n",
              "      <td>6.093299</td>\n",
              "    </tr>\n",
              "    <tr>\n",
              "      <th>2007-01-14</th>\n",
              "      <td>1.421880</td>\n",
              "      <td>0.146196</td>\n",
              "      <td>239.000173</td>\n",
              "      <td>6.065497</td>\n",
              "      <td>2.435584</td>\n",
              "      <td>1.493608</td>\n",
              "      <td>6.924711</td>\n",
              "    </tr>\n",
              "  </tbody>\n",
              "</table>\n",
              "</div>"
            ],
            "text/plain": [
              "            Global_active_power  ...  Sub_metering_3\n",
              "dt                               ...                \n",
              "2006-12-17             2.505248  ...        9.949346\n",
              "2006-12-24             1.734059  ...        7.684516\n",
              "2006-12-31             1.958204  ...        6.671619\n",
              "2007-01-07             1.152164  ...        6.093299\n",
              "2007-01-14             1.421880  ...        6.924711\n",
              "\n",
              "[5 rows x 7 columns]"
            ]
          },
          "metadata": {
            "tags": []
          },
          "execution_count": 33
        }
      ]
    },
    {
      "cell_type": "code",
      "metadata": {
        "id": "IGgQuMKtfY29",
        "colab_type": "code",
        "outputId": "332540cc-a24d-4bc6-f831-934ec3289f0f",
        "colab": {
          "base_uri": "https://localhost:8080/",
          "height": 70
        }
      },
      "source": [
        "!pip install plotly"
      ],
      "execution_count": 0,
      "outputs": [
        {
          "output_type": "stream",
          "text": [
            "Requirement already satisfied: plotly in /usr/local/lib/python3.6/dist-packages (4.4.1)\n",
            "Requirement already satisfied: six in /usr/local/lib/python3.6/dist-packages (from plotly) (1.12.0)\n",
            "Requirement already satisfied: retrying>=1.3.3 in /usr/local/lib/python3.6/dist-packages (from plotly) (1.3.3)\n"
          ],
          "name": "stdout"
        }
      ]
    },
    {
      "cell_type": "code",
      "metadata": {
        "id": "mLp1aA1Ffc-m",
        "colab_type": "code",
        "colab": {}
      },
      "source": [
        "import plotly.graph_objects as go"
      ],
      "execution_count": 0,
      "outputs": []
    },
    {
      "cell_type": "code",
      "metadata": {
        "id": "QEDLQhkHffZF",
        "colab_type": "code",
        "outputId": "5d92b6e8-4003-45c7-9ebb-c20c792ce063",
        "colab": {
          "base_uri": "https://localhost:8080/",
          "height": 542
        }
      },
      "source": [
        "fig = go.Figure()\n",
        "fig.add_trace(go.Scatter(\n",
        "                x=df_resample2.index,                  # x값 지정\n",
        "                y=df_resample2[\"Global_active_power\"], # y값 지정\n",
        "                name=\"Global active power\",            # 그래프 이름 지정\n",
        "                line_color=\"steelblue\",                # 색깔 지정\n",
        "                opacity=0.9))                          # 투명도 지정\n",
        "\n",
        "fig.update_layout(xaxis_range=[\"2006-12-16\", \"2010-11-26\"], # x축 범위 지정 \n",
        "                  title_text=\"Global active power\")         # 그래프 제목 지정 \n",
        "fig.show()"
      ],
      "execution_count": 0,
      "outputs": [
        {
          "output_type": "display_data",
          "data": {
            "text/html": [
              "<html>\n",
              "<head><meta charset=\"utf-8\" /></head>\n",
              "<body>\n",
              "    <div>\n",
              "            <script src=\"https://cdnjs.cloudflare.com/ajax/libs/mathjax/2.7.5/MathJax.js?config=TeX-AMS-MML_SVG\"></script><script type=\"text/javascript\">if (window.MathJax) {MathJax.Hub.Config({SVG: {font: \"STIX-Web\"}});}</script>\n",
              "                <script type=\"text/javascript\">window.PlotlyConfig = {MathJaxConfig: 'local'};</script>\n",
              "        <script src=\"https://cdn.plot.ly/plotly-latest.min.js\"></script>    \n",
              "            <div id=\"6f2a042b-35e7-47db-9af7-bd50588f8d26\" class=\"plotly-graph-div\" style=\"height:525px; width:100%;\"></div>\n",
              "            <script type=\"text/javascript\">\n",
              "                \n",
              "                    window.PLOTLYENV=window.PLOTLYENV || {};\n",
              "                    \n",
              "                if (document.getElementById(\"6f2a042b-35e7-47db-9af7-bd50588f8d26\")) {\n",
              "                    Plotly.newPlot(\n",
              "                        '6f2a042b-35e7-47db-9af7-bd50588f8d26',\n",
              "                        [{\"line\": {\"color\": \"steelblue\"}, \"name\": \"Global active power\", \"opacity\": 0.9, \"type\": \"scatter\", \"x\": [\"2006-12-17T00:00:00\", \"2006-12-24T00:00:00\", \"2006-12-31T00:00:00\", \"2007-01-07T00:00:00\", \"2007-01-14T00:00:00\", \"2007-01-21T00:00:00\", \"2007-01-28T00:00:00\", \"2007-02-04T00:00:00\", \"2007-02-11T00:00:00\", \"2007-02-18T00:00:00\", \"2007-02-25T00:00:00\", \"2007-03-04T00:00:00\", \"2007-03-11T00:00:00\", \"2007-03-18T00:00:00\", \"2007-03-25T00:00:00\", \"2007-04-01T00:00:00\", \"2007-04-08T00:00:00\", \"2007-04-15T00:00:00\", \"2007-04-22T00:00:00\", \"2007-04-29T00:00:00\", \"2007-05-06T00:00:00\", \"2007-05-13T00:00:00\", \"2007-05-20T00:00:00\", \"2007-05-27T00:00:00\", \"2007-06-03T00:00:00\", \"2007-06-10T00:00:00\", \"2007-06-17T00:00:00\", \"2007-06-24T00:00:00\", \"2007-07-01T00:00:00\", \"2007-07-08T00:00:00\", \"2007-07-15T00:00:00\", \"2007-07-22T00:00:00\", \"2007-07-29T00:00:00\", \"2007-08-05T00:00:00\", \"2007-08-12T00:00:00\", \"2007-08-19T00:00:00\", \"2007-08-26T00:00:00\", \"2007-09-02T00:00:00\", \"2007-09-09T00:00:00\", \"2007-09-16T00:00:00\", \"2007-09-23T00:00:00\", \"2007-09-30T00:00:00\", \"2007-10-07T00:00:00\", \"2007-10-14T00:00:00\", \"2007-10-21T00:00:00\", \"2007-10-28T00:00:00\", \"2007-11-04T00:00:00\", \"2007-11-11T00:00:00\", \"2007-11-18T00:00:00\", \"2007-11-25T00:00:00\", \"2007-12-02T00:00:00\", \"2007-12-09T00:00:00\", \"2007-12-16T00:00:00\", \"2007-12-23T00:00:00\", \"2007-12-30T00:00:00\", \"2008-01-06T00:00:00\", \"2008-01-13T00:00:00\", \"2008-01-20T00:00:00\", \"2008-01-27T00:00:00\", \"2008-02-03T00:00:00\", \"2008-02-10T00:00:00\", \"2008-02-17T00:00:00\", \"2008-02-24T00:00:00\", \"2008-03-02T00:00:00\", \"2008-03-09T00:00:00\", \"2008-03-16T00:00:00\", \"2008-03-23T00:00:00\", \"2008-03-30T00:00:00\", \"2008-04-06T00:00:00\", \"2008-04-13T00:00:00\", \"2008-04-20T00:00:00\", \"2008-04-27T00:00:00\", \"2008-05-04T00:00:00\", \"2008-05-11T00:00:00\", \"2008-05-18T00:00:00\", \"2008-05-25T00:00:00\", \"2008-06-01T00:00:00\", \"2008-06-08T00:00:00\", \"2008-06-15T00:00:00\", \"2008-06-22T00:00:00\", \"2008-06-29T00:00:00\", \"2008-07-06T00:00:00\", \"2008-07-13T00:00:00\", \"2008-07-20T00:00:00\", \"2008-07-27T00:00:00\", \"2008-08-03T00:00:00\", \"2008-08-10T00:00:00\", \"2008-08-17T00:00:00\", \"2008-08-24T00:00:00\", \"2008-08-31T00:00:00\", \"2008-09-07T00:00:00\", \"2008-09-14T00:00:00\", \"2008-09-21T00:00:00\", \"2008-09-28T00:00:00\", \"2008-10-05T00:00:00\", \"2008-10-12T00:00:00\", \"2008-10-19T00:00:00\", \"2008-10-26T00:00:00\", \"2008-11-02T00:00:00\", \"2008-11-09T00:00:00\", \"2008-11-16T00:00:00\", \"2008-11-23T00:00:00\", \"2008-11-30T00:00:00\", \"2008-12-07T00:00:00\", \"2008-12-14T00:00:00\", \"2008-12-21T00:00:00\", \"2008-12-28T00:00:00\", \"2009-01-04T00:00:00\", \"2009-01-11T00:00:00\", \"2009-01-18T00:00:00\", \"2009-01-25T00:00:00\", \"2009-02-01T00:00:00\", \"2009-02-08T00:00:00\", \"2009-02-15T00:00:00\", \"2009-02-22T00:00:00\", \"2009-03-01T00:00:00\", \"2009-03-08T00:00:00\", \"2009-03-15T00:00:00\", \"2009-03-22T00:00:00\", \"2009-03-29T00:00:00\", \"2009-04-05T00:00:00\", \"2009-04-12T00:00:00\", \"2009-04-19T00:00:00\", \"2009-04-26T00:00:00\", \"2009-05-03T00:00:00\", \"2009-05-10T00:00:00\", \"2009-05-17T00:00:00\", \"2009-05-24T00:00:00\", \"2009-05-31T00:00:00\", \"2009-06-07T00:00:00\", \"2009-06-14T00:00:00\", \"2009-06-21T00:00:00\", \"2009-06-28T00:00:00\", \"2009-07-05T00:00:00\", \"2009-07-12T00:00:00\", \"2009-07-19T00:00:00\", \"2009-07-26T00:00:00\", \"2009-08-02T00:00:00\", \"2009-08-09T00:00:00\", \"2009-08-16T00:00:00\", \"2009-08-23T00:00:00\", \"2009-08-30T00:00:00\", \"2009-09-06T00:00:00\", \"2009-09-13T00:00:00\", \"2009-09-20T00:00:00\", \"2009-09-27T00:00:00\", \"2009-10-04T00:00:00\", \"2009-10-11T00:00:00\", \"2009-10-18T00:00:00\", \"2009-10-25T00:00:00\", \"2009-11-01T00:00:00\", \"2009-11-08T00:00:00\", \"2009-11-15T00:00:00\", \"2009-11-22T00:00:00\", \"2009-11-29T00:00:00\", \"2009-12-06T00:00:00\", \"2009-12-13T00:00:00\", \"2009-12-20T00:00:00\", \"2009-12-27T00:00:00\", \"2010-01-03T00:00:00\", \"2010-01-10T00:00:00\", \"2010-01-17T00:00:00\", \"2010-01-24T00:00:00\", \"2010-01-31T00:00:00\", \"2010-02-07T00:00:00\", \"2010-02-14T00:00:00\", \"2010-02-21T00:00:00\", \"2010-02-28T00:00:00\", \"2010-03-07T00:00:00\", \"2010-03-14T00:00:00\", \"2010-03-21T00:00:00\", \"2010-03-28T00:00:00\", \"2010-04-04T00:00:00\", \"2010-04-11T00:00:00\", \"2010-04-18T00:00:00\", \"2010-04-25T00:00:00\", \"2010-05-02T00:00:00\", \"2010-05-09T00:00:00\", \"2010-05-16T00:00:00\", \"2010-05-23T00:00:00\", \"2010-05-30T00:00:00\", \"2010-06-06T00:00:00\", \"2010-06-13T00:00:00\", \"2010-06-20T00:00:00\", \"2010-06-27T00:00:00\", \"2010-07-04T00:00:00\", \"2010-07-11T00:00:00\", \"2010-07-18T00:00:00\", \"2010-07-25T00:00:00\", \"2010-08-01T00:00:00\", \"2010-08-08T00:00:00\", \"2010-08-15T00:00:00\", \"2010-08-22T00:00:00\", \"2010-08-29T00:00:00\", \"2010-09-05T00:00:00\", \"2010-09-12T00:00:00\", \"2010-09-19T00:00:00\", \"2010-09-26T00:00:00\", \"2010-10-03T00:00:00\", \"2010-10-10T00:00:00\", \"2010-10-17T00:00:00\", \"2010-10-24T00:00:00\", \"2010-10-31T00:00:00\", \"2010-11-07T00:00:00\", \"2010-11-14T00:00:00\", \"2010-11-21T00:00:00\", \"2010-11-28T00:00:00\", \"2010-12-05T00:00:00\", \"2010-12-12T00:00:00\"], \"y\": [2.5052483660130744, 1.7340586537770861, 1.9582044871104325, 1.1521638506980714, 1.4218799137701421, 1.639450992063492, 1.517427739586965, 1.1376638888888984, 0.9701617063492135, 1.6323367063492076, 1.3205574633008996, 0.9040761904761891, 0.806891468253969, 1.2729734126984216, 1.5327846840314083, 1.4500835317460363, 1.1703029761904804, 0.8420811507936617, 0.8862081349206329, 0.8793939870393311, 1.3143824793190937, 0.9686013888888859, 1.0244279761904758, 1.007193849206357, 0.9201966269841222, 1.0133860729202984, 1.161817857142859, 0.5121790902850204, 0.9803172237139387, 1.1634523809523891, 1.0116934478913902, 0.650377937999647, 0.6308386904761905, 1.0210478174603248, 1.0557605158730134, 0.6968952380952614, 0.8359731760948861, 0.8857398809523845, 0.8900697789074505, 1.1074460317460424, 0.8944289682539689, 1.1735346458405764, 1.1114309523809545, 1.1578067460317432, 1.1918716269841232, 1.097688018856448, 1.273232738095235, 0.8125944444444503, 1.5042847222222213, 1.3216354776821875, 1.3300221840313902, 0.8380908730158682, 1.4861468253968257, 1.5446477792694955, 1.8885136904761877, 1.2109871031745938, 1.0321898427615535, 1.4213928571428482, 1.5047575396825414, 1.4208576999044198, 0.8577307539682557, 1.2395537698412733, 1.2262584553643792, 0.6959857142857104, 0.7984474206349222, 1.1388232142857173, 1.2531898809523798, 1.33917416815838, 1.1565823412698528, 1.084195199904416, 1.1956777777777865, 0.8305626984126916, 1.2298678571428543, 1.025997619047619, 1.1303737331421648, 0.9946599206349261, 1.0031503968253934, 1.0920571428571473, 1.2851213903806165, 1.0820031746031868, 0.8965617063492093, 1.0395696428571448, 0.9681903998088236, 0.8171728174603202, 0.6707751984126978, 1.0840954365079345, 1.0828224206349286, 0.49383730158732164, 0.18399821428572058, 0.3049543268885396, 1.0577692460317527, 1.1202087301587342, 1.0218835317460435, 1.0645755952380895, 1.1866164682539735, 0.9697780498783849, 1.2787319444444392, 1.1343836752549135, 0.9172642857142772, 0.939154563492069, 1.3705472222222186, 1.3489061126028266, 1.6384960317460333, 1.3438333333333377, 1.1330943680628014, 1.4084902395869616, 1.1816656746031795, 1.099225693097573, 0.892095833333332, 1.6387884538726742, 1.3263545634920664, 1.4974537698412667, 0.887095833333347, 1.1742269077453422, 0.9053578135789764, 1.2318115079365115, 0.9335817460317539, 1.2153684523809607, 1.0905797237139394, 1.2102670634920674, 1.3296722222222233, 0.8870742063492087, 1.063936034729457, 1.0929289682539696, 1.116305158730156, 0.8984450396825452, 1.1645811507936592, 0.9526539682539698, 0.9204280600307108, 1.0668628968254037, 1.000377862502772, 0.7916873850801466, 0.8417972222222209, 1.1471819444444524, 0.9126914682539631, 0.5583001984126922, 0.4848434523809574, 0.8013599206349162, 0.9697246031746268, 1.1063465275319948, 0.7242224206349203, 0.8191938492063523, 1.0844337301587248, 0.9421909950469234, 1.145170833333337, 0.9776799603174552, 1.1851058759993125, 1.047894451903033, 1.2422493283802551, 1.3134450396825472, 1.0738626984126973, 1.2173103174603137, 1.2935668268885299, 1.4132571428571383, 1.1973880952380938, 1.1963380952380964, 1.0091404761904794, 1.1845476190476172, 1.4673412698412778, 1.2918478174603136, 0.9205720238095354, 1.281671993546828, 1.5351029379996552, 1.5480281746031734, 1.0111729776821958, 1.0527379184070025, 1.4274025793650795, 1.1236781746031725, 1.156065674603179, 1.0457560185185162, 1.173751357042415, 1.2314341269841245, 1.165343650793656, 1.1005857142857207, 1.1158710648148134, 1.073882539682543, 0.9665216269841249, 0.8966251984126993, 1.2629217147032976, 1.0424345238095314, 1.0282595238095258, 1.1405986111111135, 0.8968490740740771, 0.9582486111111128, 0.8869388888888877, 1.0504432157774277, 0.8882910714285666, 0.7944775017403414, 0.7057371031745946, 0.6102531746031734, 1.1334448412698417, 0.7852266203703934, 1.0009206600947995, 0.8301837301587298, 1.2081063492063573, 0.9289138888888857, 0.843053968253968, 0.9994734282250732, 1.2411130361788507, 0.8828932539682657, 1.1341738425925916, 1.3965071046663233, 0.9589634920634909, 1.0594301205393326, 1.0952615740740788, 1.107106150793656, 1.1867560871422425, 1.2351274201341615, 1.0002404647032923]}],\n",
              "                        {\"template\": {\"data\": {\"bar\": [{\"error_x\": {\"color\": \"#2a3f5f\"}, \"error_y\": {\"color\": \"#2a3f5f\"}, \"marker\": {\"line\": {\"color\": \"#E5ECF6\", \"width\": 0.5}}, \"type\": \"bar\"}], \"barpolar\": [{\"marker\": {\"line\": {\"color\": \"#E5ECF6\", \"width\": 0.5}}, \"type\": \"barpolar\"}], \"carpet\": [{\"aaxis\": {\"endlinecolor\": \"#2a3f5f\", \"gridcolor\": \"white\", \"linecolor\": \"white\", \"minorgridcolor\": \"white\", \"startlinecolor\": \"#2a3f5f\"}, \"baxis\": {\"endlinecolor\": \"#2a3f5f\", \"gridcolor\": \"white\", \"linecolor\": \"white\", \"minorgridcolor\": \"white\", \"startlinecolor\": \"#2a3f5f\"}, \"type\": \"carpet\"}], \"choropleth\": [{\"colorbar\": {\"outlinewidth\": 0, \"ticks\": \"\"}, \"type\": \"choropleth\"}], \"contour\": [{\"colorbar\": {\"outlinewidth\": 0, \"ticks\": \"\"}, \"colorscale\": [[0.0, \"#0d0887\"], [0.1111111111111111, \"#46039f\"], [0.2222222222222222, \"#7201a8\"], [0.3333333333333333, \"#9c179e\"], [0.4444444444444444, \"#bd3786\"], [0.5555555555555556, \"#d8576b\"], [0.6666666666666666, \"#ed7953\"], [0.7777777777777778, \"#fb9f3a\"], [0.8888888888888888, \"#fdca26\"], [1.0, \"#f0f921\"]], \"type\": \"contour\"}], \"contourcarpet\": [{\"colorbar\": {\"outlinewidth\": 0, \"ticks\": \"\"}, \"type\": \"contourcarpet\"}], \"heatmap\": [{\"colorbar\": {\"outlinewidth\": 0, \"ticks\": \"\"}, \"colorscale\": [[0.0, \"#0d0887\"], [0.1111111111111111, \"#46039f\"], [0.2222222222222222, \"#7201a8\"], [0.3333333333333333, \"#9c179e\"], [0.4444444444444444, \"#bd3786\"], [0.5555555555555556, \"#d8576b\"], [0.6666666666666666, \"#ed7953\"], [0.7777777777777778, \"#fb9f3a\"], [0.8888888888888888, \"#fdca26\"], [1.0, \"#f0f921\"]], \"type\": \"heatmap\"}], \"heatmapgl\": [{\"colorbar\": {\"outlinewidth\": 0, \"ticks\": \"\"}, \"colorscale\": [[0.0, \"#0d0887\"], [0.1111111111111111, \"#46039f\"], [0.2222222222222222, \"#7201a8\"], [0.3333333333333333, \"#9c179e\"], [0.4444444444444444, \"#bd3786\"], [0.5555555555555556, \"#d8576b\"], [0.6666666666666666, \"#ed7953\"], [0.7777777777777778, \"#fb9f3a\"], [0.8888888888888888, \"#fdca26\"], [1.0, \"#f0f921\"]], \"type\": \"heatmapgl\"}], \"histogram\": [{\"marker\": {\"colorbar\": {\"outlinewidth\": 0, \"ticks\": \"\"}}, \"type\": \"histogram\"}], \"histogram2d\": [{\"colorbar\": {\"outlinewidth\": 0, \"ticks\": \"\"}, \"colorscale\": [[0.0, \"#0d0887\"], [0.1111111111111111, \"#46039f\"], [0.2222222222222222, \"#7201a8\"], [0.3333333333333333, \"#9c179e\"], [0.4444444444444444, \"#bd3786\"], [0.5555555555555556, \"#d8576b\"], [0.6666666666666666, \"#ed7953\"], [0.7777777777777778, \"#fb9f3a\"], [0.8888888888888888, \"#fdca26\"], [1.0, \"#f0f921\"]], \"type\": \"histogram2d\"}], \"histogram2dcontour\": [{\"colorbar\": {\"outlinewidth\": 0, \"ticks\": \"\"}, \"colorscale\": [[0.0, \"#0d0887\"], [0.1111111111111111, \"#46039f\"], [0.2222222222222222, \"#7201a8\"], [0.3333333333333333, \"#9c179e\"], [0.4444444444444444, \"#bd3786\"], [0.5555555555555556, \"#d8576b\"], [0.6666666666666666, \"#ed7953\"], [0.7777777777777778, \"#fb9f3a\"], [0.8888888888888888, \"#fdca26\"], [1.0, \"#f0f921\"]], \"type\": \"histogram2dcontour\"}], \"mesh3d\": [{\"colorbar\": {\"outlinewidth\": 0, \"ticks\": \"\"}, \"type\": \"mesh3d\"}], \"parcoords\": [{\"line\": {\"colorbar\": {\"outlinewidth\": 0, \"ticks\": \"\"}}, \"type\": \"parcoords\"}], \"pie\": [{\"automargin\": true, \"type\": \"pie\"}], \"scatter\": [{\"marker\": {\"colorbar\": {\"outlinewidth\": 0, \"ticks\": \"\"}}, \"type\": \"scatter\"}], \"scatter3d\": [{\"line\": {\"colorbar\": {\"outlinewidth\": 0, \"ticks\": \"\"}}, \"marker\": {\"colorbar\": {\"outlinewidth\": 0, \"ticks\": \"\"}}, \"type\": \"scatter3d\"}], \"scattercarpet\": [{\"marker\": {\"colorbar\": {\"outlinewidth\": 0, \"ticks\": \"\"}}, \"type\": \"scattercarpet\"}], \"scattergeo\": [{\"marker\": {\"colorbar\": {\"outlinewidth\": 0, \"ticks\": \"\"}}, \"type\": \"scattergeo\"}], \"scattergl\": [{\"marker\": {\"colorbar\": {\"outlinewidth\": 0, \"ticks\": \"\"}}, \"type\": \"scattergl\"}], \"scattermapbox\": [{\"marker\": {\"colorbar\": {\"outlinewidth\": 0, \"ticks\": \"\"}}, \"type\": \"scattermapbox\"}], \"scatterpolar\": [{\"marker\": {\"colorbar\": {\"outlinewidth\": 0, \"ticks\": \"\"}}, \"type\": \"scatterpolar\"}], \"scatterpolargl\": [{\"marker\": {\"colorbar\": {\"outlinewidth\": 0, \"ticks\": \"\"}}, \"type\": \"scatterpolargl\"}], \"scatterternary\": [{\"marker\": {\"colorbar\": {\"outlinewidth\": 0, \"ticks\": \"\"}}, \"type\": \"scatterternary\"}], \"surface\": [{\"colorbar\": {\"outlinewidth\": 0, \"ticks\": \"\"}, \"colorscale\": [[0.0, \"#0d0887\"], [0.1111111111111111, \"#46039f\"], [0.2222222222222222, \"#7201a8\"], [0.3333333333333333, \"#9c179e\"], [0.4444444444444444, \"#bd3786\"], [0.5555555555555556, \"#d8576b\"], [0.6666666666666666, \"#ed7953\"], [0.7777777777777778, \"#fb9f3a\"], [0.8888888888888888, \"#fdca26\"], [1.0, \"#f0f921\"]], \"type\": \"surface\"}], \"table\": [{\"cells\": {\"fill\": {\"color\": \"#EBF0F8\"}, \"line\": {\"color\": \"white\"}}, \"header\": {\"fill\": {\"color\": \"#C8D4E3\"}, \"line\": {\"color\": \"white\"}}, \"type\": \"table\"}]}, \"layout\": {\"annotationdefaults\": {\"arrowcolor\": \"#2a3f5f\", \"arrowhead\": 0, \"arrowwidth\": 1}, \"coloraxis\": {\"colorbar\": {\"outlinewidth\": 0, \"ticks\": \"\"}}, \"colorscale\": {\"diverging\": [[0, \"#8e0152\"], [0.1, \"#c51b7d\"], [0.2, \"#de77ae\"], [0.3, \"#f1b6da\"], [0.4, \"#fde0ef\"], [0.5, \"#f7f7f7\"], [0.6, \"#e6f5d0\"], [0.7, \"#b8e186\"], [0.8, \"#7fbc41\"], [0.9, \"#4d9221\"], [1, \"#276419\"]], \"sequential\": [[0.0, \"#0d0887\"], [0.1111111111111111, \"#46039f\"], [0.2222222222222222, \"#7201a8\"], [0.3333333333333333, \"#9c179e\"], [0.4444444444444444, \"#bd3786\"], [0.5555555555555556, \"#d8576b\"], [0.6666666666666666, \"#ed7953\"], [0.7777777777777778, \"#fb9f3a\"], [0.8888888888888888, \"#fdca26\"], [1.0, \"#f0f921\"]], \"sequentialminus\": [[0.0, \"#0d0887\"], [0.1111111111111111, \"#46039f\"], [0.2222222222222222, \"#7201a8\"], [0.3333333333333333, \"#9c179e\"], [0.4444444444444444, \"#bd3786\"], [0.5555555555555556, \"#d8576b\"], [0.6666666666666666, \"#ed7953\"], [0.7777777777777778, \"#fb9f3a\"], [0.8888888888888888, \"#fdca26\"], [1.0, \"#f0f921\"]]}, \"colorway\": [\"#636efa\", \"#EF553B\", \"#00cc96\", \"#ab63fa\", \"#FFA15A\", \"#19d3f3\", \"#FF6692\", \"#B6E880\", \"#FF97FF\", \"#FECB52\"], \"font\": {\"color\": \"#2a3f5f\"}, \"geo\": {\"bgcolor\": \"white\", \"lakecolor\": \"white\", \"landcolor\": \"#E5ECF6\", \"showlakes\": true, \"showland\": true, \"subunitcolor\": \"white\"}, \"hoverlabel\": {\"align\": \"left\"}, \"hovermode\": \"closest\", \"mapbox\": {\"style\": \"light\"}, \"paper_bgcolor\": \"white\", \"plot_bgcolor\": \"#E5ECF6\", \"polar\": {\"angularaxis\": {\"gridcolor\": \"white\", \"linecolor\": \"white\", \"ticks\": \"\"}, \"bgcolor\": \"#E5ECF6\", \"radialaxis\": {\"gridcolor\": \"white\", \"linecolor\": \"white\", \"ticks\": \"\"}}, \"scene\": {\"xaxis\": {\"backgroundcolor\": \"#E5ECF6\", \"gridcolor\": \"white\", \"gridwidth\": 2, \"linecolor\": \"white\", \"showbackground\": true, \"ticks\": \"\", \"zerolinecolor\": \"white\"}, \"yaxis\": {\"backgroundcolor\": \"#E5ECF6\", \"gridcolor\": \"white\", \"gridwidth\": 2, \"linecolor\": \"white\", \"showbackground\": true, \"ticks\": \"\", \"zerolinecolor\": \"white\"}, \"zaxis\": {\"backgroundcolor\": \"#E5ECF6\", \"gridcolor\": \"white\", \"gridwidth\": 2, \"linecolor\": \"white\", \"showbackground\": true, \"ticks\": \"\", \"zerolinecolor\": \"white\"}}, \"shapedefaults\": {\"line\": {\"color\": \"#2a3f5f\"}}, \"ternary\": {\"aaxis\": {\"gridcolor\": \"white\", \"linecolor\": \"white\", \"ticks\": \"\"}, \"baxis\": {\"gridcolor\": \"white\", \"linecolor\": \"white\", \"ticks\": \"\"}, \"bgcolor\": \"#E5ECF6\", \"caxis\": {\"gridcolor\": \"white\", \"linecolor\": \"white\", \"ticks\": \"\"}}, \"title\": {\"x\": 0.05}, \"xaxis\": {\"automargin\": true, \"gridcolor\": \"white\", \"linecolor\": \"white\", \"ticks\": \"\", \"title\": {\"standoff\": 15}, \"zerolinecolor\": \"white\", \"zerolinewidth\": 2}, \"yaxis\": {\"automargin\": true, \"gridcolor\": \"white\", \"linecolor\": \"white\", \"ticks\": \"\", \"title\": {\"standoff\": 15}, \"zerolinecolor\": \"white\", \"zerolinewidth\": 2}}}, \"title\": {\"text\": \"Global active power\"}, \"xaxis\": {\"range\": [\"2006-12-16\", \"2010-11-26\"]}},\n",
              "                        {\"responsive\": true}\n",
              "                    ).then(function(){\n",
              "                            \n",
              "var gd = document.getElementById('6f2a042b-35e7-47db-9af7-bd50588f8d26');\n",
              "var x = new MutationObserver(function (mutations, observer) {{\n",
              "        var display = window.getComputedStyle(gd).display;\n",
              "        if (!display || display === 'none') {{\n",
              "            console.log([gd, 'removed!']);\n",
              "            Plotly.purge(gd);\n",
              "            observer.disconnect();\n",
              "        }}\n",
              "}});\n",
              "\n",
              "// Listen for the removal of the full notebook cells\n",
              "var notebookContainer = gd.closest('#notebook-container');\n",
              "if (notebookContainer) {{\n",
              "    x.observe(notebookContainer, {childList: true});\n",
              "}}\n",
              "\n",
              "// Listen for the clearing of the current output cell\n",
              "var outputEl = gd.closest('.output');\n",
              "if (outputEl) {{\n",
              "    x.observe(outputEl, {childList: true});\n",
              "}}\n",
              "\n",
              "                        })\n",
              "                };\n",
              "                \n",
              "            </script>\n",
              "        </div>\n",
              "</body>\n",
              "</html>"
            ]
          },
          "metadata": {
            "tags": []
          }
        }
      ]
    },
    {
      "cell_type": "code",
      "metadata": {
        "id": "sOCvqNUvfzU3",
        "colab_type": "code",
        "outputId": "afd29e14-521c-4754-81d1-40ea6cd4e3ae",
        "colab": {
          "base_uri": "https://localhost:8080/",
          "height": 542
        }
      },
      "source": [
        "fig = go.Figure()\n",
        "fig.add_trace(go.Scatter(\n",
        "                x=df_resample2.index,                 # x값 지정\n",
        "                y=df_resample2[\"Sub_metering_1\"],     # y값 지정\n",
        "                name=\"Sub_metering_1\",                # 그래프 이름 지정\n",
        "                line_color=\"steelblue\",               # 색깔 지정\n",
        "                opacity=0.9))                         # 투명도 지정\n",
        "\n",
        "fig.add_trace(go.Scatter(\n",
        "                x=df_resample2.index,                 # x값 지정\n",
        "                y=df_resample2[\"Sub_metering_2\"],     # y값 지정\n",
        "                name=\"Sub_metering_2\",                # 그래프 이름 지정\n",
        "                line_color=\"red\",                     # 색깔 지정\n",
        "                opacity=0.9))                         # 투명도 지정\n",
        "\n",
        "fig.add_trace(go.Scatter(\n",
        "                x=df_resample2.index,                 # x값 지정\n",
        "                y=df_resample2[\"Sub_metering_3\"],     # y값 지정\n",
        "                name=\"Sub_metering_3\",                # 그래프 이름 지정\n",
        "                line_color=\"green\",                   # 색깔 지정\n",
        "                opacity=0.9))                         # 투명도 지정\n",
        "\n",
        "\n",
        "fig.update_layout(xaxis_range=[\"2006-12-16\", \"2010-11-26\"], # x축 범위 지정 \n",
        "                  title_text=\"Sub metering\")                # 그래프 제목 지정 \n",
        "fig.show()"
      ],
      "execution_count": 0,
      "outputs": [
        {
          "output_type": "display_data",
          "data": {
            "text/html": [
              "<html>\n",
              "<head><meta charset=\"utf-8\" /></head>\n",
              "<body>\n",
              "    <div>\n",
              "            <script src=\"https://cdnjs.cloudflare.com/ajax/libs/mathjax/2.7.5/MathJax.js?config=TeX-AMS-MML_SVG\"></script><script type=\"text/javascript\">if (window.MathJax) {MathJax.Hub.Config({SVG: {font: \"STIX-Web\"}});}</script>\n",
              "                <script type=\"text/javascript\">window.PlotlyConfig = {MathJaxConfig: 'local'};</script>\n",
              "        <script src=\"https://cdn.plot.ly/plotly-latest.min.js\"></script>    \n",
              "            <div id=\"ca2b07f4-9ba7-4a67-892c-325c12fc5962\" class=\"plotly-graph-div\" style=\"height:525px; width:100%;\"></div>\n",
              "            <script type=\"text/javascript\">\n",
              "                \n",
              "                    window.PLOTLYENV=window.PLOTLYENV || {};\n",
              "                    \n",
              "                if (document.getElementById(\"ca2b07f4-9ba7-4a67-892c-325c12fc5962\")) {\n",
              "                    Plotly.newPlot(\n",
              "                        'ca2b07f4-9ba7-4a67-892c-325c12fc5962',\n",
              "                        [{\"line\": {\"color\": \"steelblue\"}, \"name\": \"Sub_metering_1\", \"opacity\": 0.9, \"type\": \"scatter\", \"x\": [\"2006-12-17T00:00:00\", \"2006-12-24T00:00:00\", \"2006-12-31T00:00:00\", \"2007-01-07T00:00:00\", \"2007-01-14T00:00:00\", \"2007-01-21T00:00:00\", \"2007-01-28T00:00:00\", \"2007-02-04T00:00:00\", \"2007-02-11T00:00:00\", \"2007-02-18T00:00:00\", \"2007-02-25T00:00:00\", \"2007-03-04T00:00:00\", \"2007-03-11T00:00:00\", \"2007-03-18T00:00:00\", \"2007-03-25T00:00:00\", \"2007-04-01T00:00:00\", \"2007-04-08T00:00:00\", \"2007-04-15T00:00:00\", \"2007-04-22T00:00:00\", \"2007-04-29T00:00:00\", \"2007-05-06T00:00:00\", \"2007-05-13T00:00:00\", \"2007-05-20T00:00:00\", \"2007-05-27T00:00:00\", \"2007-06-03T00:00:00\", \"2007-06-10T00:00:00\", \"2007-06-17T00:00:00\", \"2007-06-24T00:00:00\", \"2007-07-01T00:00:00\", \"2007-07-08T00:00:00\", \"2007-07-15T00:00:00\", \"2007-07-22T00:00:00\", \"2007-07-29T00:00:00\", \"2007-08-05T00:00:00\", \"2007-08-12T00:00:00\", \"2007-08-19T00:00:00\", \"2007-08-26T00:00:00\", \"2007-09-02T00:00:00\", \"2007-09-09T00:00:00\", \"2007-09-16T00:00:00\", \"2007-09-23T00:00:00\", \"2007-09-30T00:00:00\", \"2007-10-07T00:00:00\", \"2007-10-14T00:00:00\", \"2007-10-21T00:00:00\", \"2007-10-28T00:00:00\", \"2007-11-04T00:00:00\", \"2007-11-11T00:00:00\", \"2007-11-18T00:00:00\", \"2007-11-25T00:00:00\", \"2007-12-02T00:00:00\", \"2007-12-09T00:00:00\", \"2007-12-16T00:00:00\", \"2007-12-23T00:00:00\", \"2007-12-30T00:00:00\", \"2008-01-06T00:00:00\", \"2008-01-13T00:00:00\", \"2008-01-20T00:00:00\", \"2008-01-27T00:00:00\", \"2008-02-03T00:00:00\", \"2008-02-10T00:00:00\", \"2008-02-17T00:00:00\", \"2008-02-24T00:00:00\", \"2008-03-02T00:00:00\", \"2008-03-09T00:00:00\", \"2008-03-16T00:00:00\", \"2008-03-23T00:00:00\", \"2008-03-30T00:00:00\", \"2008-04-06T00:00:00\", \"2008-04-13T00:00:00\", \"2008-04-20T00:00:00\", \"2008-04-27T00:00:00\", \"2008-05-04T00:00:00\", \"2008-05-11T00:00:00\", \"2008-05-18T00:00:00\", \"2008-05-25T00:00:00\", \"2008-06-01T00:00:00\", \"2008-06-08T00:00:00\", \"2008-06-15T00:00:00\", \"2008-06-22T00:00:00\", \"2008-06-29T00:00:00\", \"2008-07-06T00:00:00\", \"2008-07-13T00:00:00\", \"2008-07-20T00:00:00\", \"2008-07-27T00:00:00\", \"2008-08-03T00:00:00\", \"2008-08-10T00:00:00\", \"2008-08-17T00:00:00\", \"2008-08-24T00:00:00\", \"2008-08-31T00:00:00\", \"2008-09-07T00:00:00\", \"2008-09-14T00:00:00\", \"2008-09-21T00:00:00\", \"2008-09-28T00:00:00\", \"2008-10-05T00:00:00\", \"2008-10-12T00:00:00\", \"2008-10-19T00:00:00\", \"2008-10-26T00:00:00\", \"2008-11-02T00:00:00\", \"2008-11-09T00:00:00\", \"2008-11-16T00:00:00\", \"2008-11-23T00:00:00\", \"2008-11-30T00:00:00\", \"2008-12-07T00:00:00\", \"2008-12-14T00:00:00\", \"2008-12-21T00:00:00\", \"2008-12-28T00:00:00\", \"2009-01-04T00:00:00\", \"2009-01-11T00:00:00\", \"2009-01-18T00:00:00\", \"2009-01-25T00:00:00\", \"2009-02-01T00:00:00\", \"2009-02-08T00:00:00\", \"2009-02-15T00:00:00\", \"2009-02-22T00:00:00\", \"2009-03-01T00:00:00\", \"2009-03-08T00:00:00\", \"2009-03-15T00:00:00\", \"2009-03-22T00:00:00\", \"2009-03-29T00:00:00\", \"2009-04-05T00:00:00\", \"2009-04-12T00:00:00\", \"2009-04-19T00:00:00\", \"2009-04-26T00:00:00\", \"2009-05-03T00:00:00\", \"2009-05-10T00:00:00\", \"2009-05-17T00:00:00\", \"2009-05-24T00:00:00\", \"2009-05-31T00:00:00\", \"2009-06-07T00:00:00\", \"2009-06-14T00:00:00\", \"2009-06-21T00:00:00\", \"2009-06-28T00:00:00\", \"2009-07-05T00:00:00\", \"2009-07-12T00:00:00\", \"2009-07-19T00:00:00\", \"2009-07-26T00:00:00\", \"2009-08-02T00:00:00\", \"2009-08-09T00:00:00\", \"2009-08-16T00:00:00\", \"2009-08-23T00:00:00\", \"2009-08-30T00:00:00\", \"2009-09-06T00:00:00\", \"2009-09-13T00:00:00\", \"2009-09-20T00:00:00\", \"2009-09-27T00:00:00\", \"2009-10-04T00:00:00\", \"2009-10-11T00:00:00\", \"2009-10-18T00:00:00\", \"2009-10-25T00:00:00\", \"2009-11-01T00:00:00\", \"2009-11-08T00:00:00\", \"2009-11-15T00:00:00\", \"2009-11-22T00:00:00\", \"2009-11-29T00:00:00\", \"2009-12-06T00:00:00\", \"2009-12-13T00:00:00\", \"2009-12-20T00:00:00\", \"2009-12-27T00:00:00\", \"2010-01-03T00:00:00\", \"2010-01-10T00:00:00\", \"2010-01-17T00:00:00\", \"2010-01-24T00:00:00\", \"2010-01-31T00:00:00\", \"2010-02-07T00:00:00\", \"2010-02-14T00:00:00\", \"2010-02-21T00:00:00\", \"2010-02-28T00:00:00\", \"2010-03-07T00:00:00\", \"2010-03-14T00:00:00\", \"2010-03-21T00:00:00\", \"2010-03-28T00:00:00\", \"2010-04-04T00:00:00\", \"2010-04-11T00:00:00\", \"2010-04-18T00:00:00\", \"2010-04-25T00:00:00\", \"2010-05-02T00:00:00\", \"2010-05-09T00:00:00\", \"2010-05-16T00:00:00\", \"2010-05-23T00:00:00\", \"2010-05-30T00:00:00\", \"2010-06-06T00:00:00\", \"2010-06-13T00:00:00\", \"2010-06-20T00:00:00\", \"2010-06-27T00:00:00\", \"2010-07-04T00:00:00\", \"2010-07-11T00:00:00\", \"2010-07-18T00:00:00\", \"2010-07-25T00:00:00\", \"2010-08-01T00:00:00\", \"2010-08-08T00:00:00\", \"2010-08-15T00:00:00\", \"2010-08-22T00:00:00\", \"2010-08-29T00:00:00\", \"2010-09-05T00:00:00\", \"2010-09-12T00:00:00\", \"2010-09-19T00:00:00\", \"2010-09-26T00:00:00\", \"2010-10-03T00:00:00\", \"2010-10-10T00:00:00\", \"2010-10-17T00:00:00\", \"2010-10-24T00:00:00\", \"2010-10-31T00:00:00\", \"2010-11-07T00:00:00\", \"2010-11-14T00:00:00\", \"2010-11-21T00:00:00\", \"2010-11-28T00:00:00\", \"2010-12-05T00:00:00\", \"2010-12-12T00:00:00\"], \"y\": [1.1072984749455337, 1.1103416514503275, 1.4126233974820737, 1.0688613019156399, 2.4355835627789983, 2.3249007936507935, 1.138504159058497, 0.39692460317460315, 1.085813492063492, 1.4290674603174602, 0.8561749847836608, 0.830952380952381, 0.9837301587301587, 1.5728174603174603, 1.6940597146140526, 0.8072420634920635, 1.4906746031746032, 0.628968253968254, 1.6571428571428573, 0.8760494784017445, 1.862335490033512, 1.1299603174603174, 1.9619047619047618, 1.7500992063492065, 1.0178571428571428, 1.5185636828680207, 1.9659722222222222, 0.36391308002175604, 1.4840398733442113, 0.8796626984126984, 1.6283581379220793, 1.318067651121989, 0.5422619047619047, 1.2166666666666666, 1.1771825396825397, 0.3584325396825397, 1.4051708257251636, 1.0922619047619047, 1.087463599778442, 1.1313492063492063, 1.6369047619047619, 1.037424984783661, 1.5273809523809523, 1.1738095238095239, 1.0577380952380953, 0.8313733974820734, 0.8549603174603174, 1.0058531746031747, 1.4354166666666666, 1.3301708257251639, 0.7531866987410368, 0.7623015873015873, 1.030654761904762, 1.2731271749315127, 2.3030753968253967, 0.5736111111111111, 1.4723335241378621, 1.4086309523809524, 1.5419642857142857, 0.9962422542965922, 1.033234126984127, 0.9124007936507936, 0.9070678419265178, 0.3421626984126984, 0.6127976190476191, 1.5960317460317461, 1.6250992063492065, 1.8301708257251637, 1.0536706349206348, 0.9844366987410368, 1.116468253968254, 0.5090277777777777, 0.9666666666666667, 1.4118055555555555, 1.1063733974820733, 1.0600198412698412, 0.8786706349206349, 1.0854166666666667, 1.9959446352489731, 2.2433531746031745, 1.4074404761904762, 0.8285714285714286, 1.2696670482757244, 1.2121031746031745, 0.5951388888888889, 1.4955357142857142, 1.1643849206349206, 0.22132936507936507, 0.0, 0.2040795558838939, 1.0878968253968253, 1.503670634920635, 1.255059523809524, 1.1441468253968254, 1.795734126984127, 0.5093518027314876, 0.8626984126984127, 1.1762145538010897, 0.5534722222222223, 0.6291666666666667, 1.6482142857142856, 0.9537819368362747, 1.4895833333333333, 2.4075396825396824, 1.2481392704979464, 1.024218444772783, 0.7834325396825397, 2.0931304572496376, 0.7703373015873016, 1.9926708257251635, 1.3304563492063493, 1.650297619047619, 0.5867063492063492, 0.9740321276408036, 0.9818379126420242, 1.0955357142857143, 0.6810515873015873, 1.6633928571428571, 1.066877174931513, 1.270734126984127, 1.1443452380952381, 0.9337301587301587, 0.9822662546249307, 0.9004960317460318, 0.7424603174603175, 1.1972222222222222, 1.1892857142857143, 0.8072420634920635, 0.9847585089215228, 0.6293650793650793, 0.6987580786212618, 0.7333804668542514, 0.8490079365079365, 1.393154761904762, 0.9541666666666667, 0.3155753968253968, 0.18253968253968253, 0.976984126984127, 1.3527777777777779, 1.5699041338193285, 1.1645833333333333, 1.0799603174603174, 1.150595238095238, 1.0193694292281053, 1.3669642857142856, 0.868452380952381, 0.7952622863709623, 1.277937461959152, 1.3531987943074704, 1.6157738095238094, 1.0849206349206348, 1.289186507936508, 1.4892978098521479, 2.1174603174603175, 0.9692460317460317, 1.0611111111111111, 1.7905753968253968, 0.6885912698412698, 1.8249007936507937, 1.3808531746031747, 0.9236111111111112, 1.3125932853607525, 1.3117184447727825, 1.2314484126984127, 0.3454486035029415, 0.921657630012691, 2.0286706349206347, 0.8474206349206349, 1.1656746031746033, 1.5362268518518518, 0.6949542210972984, 0.8270833333333333, 0.49583333333333335, 1.279563492063492, 1.070486111111111, 0.8060515873015873, 0.638095238095238, 1.9061507936507935, 1.1431854077904686, 0.729265873015873, 1.1584325396825397, 1.6396825396825396, 1.4302083333333333, 0.7158730158730159, 1.4971230158730158, 0.7099327304870685, 0.8796626984126984, 0.5103150374200984, 0.2912698412698413, 0.16944444444444445, 1.1368055555555556, 0.2375, 1.0493073249536484, 0.6934523809523809, 1.1761904761904762, 0.8846064814814815, 0.7092261904761905, 1.1429925824123752, 1.1292925659953081, 0.6192460317460318, 0.8453703703703703, 1.2890993971537352, 0.5913690476190476, 1.415190666995005, 1.360648148148148, 0.8700396825396826, 1.4207603588210167, 0.8046794514414817, 1.0871668892719504]}, {\"line\": {\"color\": \"red\"}, \"name\": \"Sub_metering_2\", \"opacity\": 0.9, \"type\": \"scatter\", \"x\": [\"2006-12-17T00:00:00\", \"2006-12-24T00:00:00\", \"2006-12-31T00:00:00\", \"2007-01-07T00:00:00\", \"2007-01-14T00:00:00\", \"2007-01-21T00:00:00\", \"2007-01-28T00:00:00\", \"2007-02-04T00:00:00\", \"2007-02-11T00:00:00\", \"2007-02-18T00:00:00\", \"2007-02-25T00:00:00\", \"2007-03-04T00:00:00\", \"2007-03-11T00:00:00\", \"2007-03-18T00:00:00\", \"2007-03-25T00:00:00\", \"2007-04-01T00:00:00\", \"2007-04-08T00:00:00\", \"2007-04-15T00:00:00\", \"2007-04-22T00:00:00\", \"2007-04-29T00:00:00\", \"2007-05-06T00:00:00\", \"2007-05-13T00:00:00\", \"2007-05-20T00:00:00\", \"2007-05-27T00:00:00\", \"2007-06-03T00:00:00\", \"2007-06-10T00:00:00\", \"2007-06-17T00:00:00\", \"2007-06-24T00:00:00\", \"2007-07-01T00:00:00\", \"2007-07-08T00:00:00\", \"2007-07-15T00:00:00\", \"2007-07-22T00:00:00\", \"2007-07-29T00:00:00\", \"2007-08-05T00:00:00\", \"2007-08-12T00:00:00\", \"2007-08-19T00:00:00\", \"2007-08-26T00:00:00\", \"2007-09-02T00:00:00\", \"2007-09-09T00:00:00\", \"2007-09-16T00:00:00\", \"2007-09-23T00:00:00\", \"2007-09-30T00:00:00\", \"2007-10-07T00:00:00\", \"2007-10-14T00:00:00\", \"2007-10-21T00:00:00\", \"2007-10-28T00:00:00\", \"2007-11-04T00:00:00\", \"2007-11-11T00:00:00\", \"2007-11-18T00:00:00\", \"2007-11-25T00:00:00\", \"2007-12-02T00:00:00\", \"2007-12-09T00:00:00\", \"2007-12-16T00:00:00\", \"2007-12-23T00:00:00\", \"2007-12-30T00:00:00\", \"2008-01-06T00:00:00\", \"2008-01-13T00:00:00\", \"2008-01-20T00:00:00\", \"2008-01-27T00:00:00\", \"2008-02-03T00:00:00\", \"2008-02-10T00:00:00\", \"2008-02-17T00:00:00\", \"2008-02-24T00:00:00\", \"2008-03-02T00:00:00\", \"2008-03-09T00:00:00\", \"2008-03-16T00:00:00\", \"2008-03-23T00:00:00\", \"2008-03-30T00:00:00\", \"2008-04-06T00:00:00\", \"2008-04-13T00:00:00\", \"2008-04-20T00:00:00\", \"2008-04-27T00:00:00\", \"2008-05-04T00:00:00\", \"2008-05-11T00:00:00\", \"2008-05-18T00:00:00\", \"2008-05-25T00:00:00\", \"2008-06-01T00:00:00\", \"2008-06-08T00:00:00\", \"2008-06-15T00:00:00\", \"2008-06-22T00:00:00\", \"2008-06-29T00:00:00\", \"2008-07-06T00:00:00\", \"2008-07-13T00:00:00\", \"2008-07-20T00:00:00\", \"2008-07-27T00:00:00\", \"2008-08-03T00:00:00\", \"2008-08-10T00:00:00\", \"2008-08-17T00:00:00\", \"2008-08-24T00:00:00\", \"2008-08-31T00:00:00\", \"2008-09-07T00:00:00\", \"2008-09-14T00:00:00\", \"2008-09-21T00:00:00\", \"2008-09-28T00:00:00\", \"2008-10-05T00:00:00\", \"2008-10-12T00:00:00\", \"2008-10-19T00:00:00\", \"2008-10-26T00:00:00\", \"2008-11-02T00:00:00\", \"2008-11-09T00:00:00\", \"2008-11-16T00:00:00\", \"2008-11-23T00:00:00\", \"2008-11-30T00:00:00\", \"2008-12-07T00:00:00\", \"2008-12-14T00:00:00\", \"2008-12-21T00:00:00\", \"2008-12-28T00:00:00\", \"2009-01-04T00:00:00\", \"2009-01-11T00:00:00\", \"2009-01-18T00:00:00\", \"2009-01-25T00:00:00\", \"2009-02-01T00:00:00\", \"2009-02-08T00:00:00\", \"2009-02-15T00:00:00\", \"2009-02-22T00:00:00\", \"2009-03-01T00:00:00\", \"2009-03-08T00:00:00\", \"2009-03-15T00:00:00\", \"2009-03-22T00:00:00\", \"2009-03-29T00:00:00\", \"2009-04-05T00:00:00\", \"2009-04-12T00:00:00\", \"2009-04-19T00:00:00\", \"2009-04-26T00:00:00\", \"2009-05-03T00:00:00\", \"2009-05-10T00:00:00\", \"2009-05-17T00:00:00\", \"2009-05-24T00:00:00\", \"2009-05-31T00:00:00\", \"2009-06-07T00:00:00\", \"2009-06-14T00:00:00\", \"2009-06-21T00:00:00\", \"2009-06-28T00:00:00\", \"2009-07-05T00:00:00\", \"2009-07-12T00:00:00\", \"2009-07-19T00:00:00\", \"2009-07-26T00:00:00\", \"2009-08-02T00:00:00\", \"2009-08-09T00:00:00\", \"2009-08-16T00:00:00\", \"2009-08-23T00:00:00\", \"2009-08-30T00:00:00\", \"2009-09-06T00:00:00\", \"2009-09-13T00:00:00\", \"2009-09-20T00:00:00\", \"2009-09-27T00:00:00\", \"2009-10-04T00:00:00\", \"2009-10-11T00:00:00\", \"2009-10-18T00:00:00\", \"2009-10-25T00:00:00\", \"2009-11-01T00:00:00\", \"2009-11-08T00:00:00\", \"2009-11-15T00:00:00\", \"2009-11-22T00:00:00\", \"2009-11-29T00:00:00\", \"2009-12-06T00:00:00\", \"2009-12-13T00:00:00\", \"2009-12-20T00:00:00\", \"2009-12-27T00:00:00\", \"2010-01-03T00:00:00\", \"2010-01-10T00:00:00\", \"2010-01-17T00:00:00\", \"2010-01-24T00:00:00\", \"2010-01-31T00:00:00\", \"2010-02-07T00:00:00\", \"2010-02-14T00:00:00\", \"2010-02-21T00:00:00\", \"2010-02-28T00:00:00\", \"2010-03-07T00:00:00\", \"2010-03-14T00:00:00\", \"2010-03-21T00:00:00\", \"2010-03-28T00:00:00\", \"2010-04-04T00:00:00\", \"2010-04-11T00:00:00\", \"2010-04-18T00:00:00\", \"2010-04-25T00:00:00\", \"2010-05-02T00:00:00\", \"2010-05-09T00:00:00\", \"2010-05-16T00:00:00\", \"2010-05-23T00:00:00\", \"2010-05-30T00:00:00\", \"2010-06-06T00:00:00\", \"2010-06-13T00:00:00\", \"2010-06-20T00:00:00\", \"2010-06-27T00:00:00\", \"2010-07-04T00:00:00\", \"2010-07-11T00:00:00\", \"2010-07-18T00:00:00\", \"2010-07-25T00:00:00\", \"2010-08-01T00:00:00\", \"2010-08-08T00:00:00\", \"2010-08-15T00:00:00\", \"2010-08-22T00:00:00\", \"2010-08-29T00:00:00\", \"2010-09-05T00:00:00\", \"2010-09-12T00:00:00\", \"2010-09-19T00:00:00\", \"2010-09-26T00:00:00\", \"2010-10-03T00:00:00\", \"2010-10-10T00:00:00\", \"2010-10-17T00:00:00\", \"2010-10-24T00:00:00\", \"2010-10-31T00:00:00\", \"2010-11-07T00:00:00\", \"2010-11-14T00:00:00\", \"2010-11-21T00:00:00\", \"2010-11-28T00:00:00\", \"2010-12-05T00:00:00\", \"2010-12-12T00:00:00\"], \"y\": [2.5778867102396514, 2.1184124047555533, 2.245098912692061, 0.860148662695237, 1.493607880882515, 1.9915674603174602, 1.4825692976158718, 0.960515873015873, 1.9618055555555556, 2.677281746031746, 1.5624600238031723, 0.723313492063492, 2.012797619047619, 2.0072420634920634, 2.0404065992031737, 2.7898809523809525, 1.7577380952380952, 1.6192460317460318, 0.671031746031746, 0.8554036298094906, 2.4276707591609425, 0.8304563492063493, 1.6696428571428572, 2.104761904761905, 1.1261904761904762, 1.4923907261873006, 2.2206349206349207, 0.8514481190412676, 2.5209621547587293, 2.205753968253968, 1.6090086900633358, 0.7768153293619037, 1.685813492063492, 0.6660714285714285, 2.011011904761905, 1.0497023809523809, 1.8568748531714276, 1.4699404761904762, 1.6549944205142433, 1.6726190476190477, 1.2075396825396825, 2.7787298650730134, 1.7992063492063493, 1.7101190476190475, 1.6624007936507936, 1.3662298650730136, 1.8225198412698413, 0.3788690476190476, 1.8424603174603174, 1.5521129484095229, 2.0972518372984115, 1.1760912698412698, 2.0547619047619046, 1.6695732658698403, 2.4337301587301585, 1.537202380952381, 0.8980454880920623, 1.8136904761904762, 1.5151785714285715, 1.7966565992031736, 0.7483134920634921, 1.0809523809523809, 1.5232735158666644, 1.0195436507936508, 1.0662698412698413, 0.9461309523809524, 1.88859126984127, 1.899632789679364, 1.9604166666666667, 1.8588589801555546, 1.59484126984127, 1.1910714285714286, 2.5180555555555557, 2.206746031746032, 1.7125592301523787, 1.455654761904762, 1.4711309523809524, 1.4882936507936508, 2.791398662695237, 1.5260912698412699, 1.0037698412698413, 0.8209325396825397, 0.7053171666603152, 1.0756944444444445, 0.4056547619047619, 1.0315476190476192, 2.2796626984126984, 0.5739087301587301, 0.2988095238095238, 0.6222518372984116, 0.6783730158730159, 1.299404761904762, 0.785515873015873, 1.3329365079365079, 0.5357142857142857, 0.6931237616634076, 2.113095238095238, 1.2276623371650277, 0.23343253968253969, 0.797420634920635, 1.1098214285714285, 1.4061804087269831, 0.7596230158730158, 1.3510912698412698, 1.2315076428507912, 1.687728027774602, 0.3864087301587302, 1.0248653054317025, 0.46785714285714286, 1.4304859642825387, 1.3794642857142858, 2.0577380952380953, 0.29623015873015873, 1.2391465317396801, 1.0166829840507667, 1.1726190476190477, 0.6628968253968254, 1.400297619047619, 0.9639185039650784, 0.9093253968253968, 2.2193452380952383, 1.1791666666666667, 1.6929163730095218, 1.1823412698412699, 0.4423611111111111, 1.1111111111111112, 1.2639880952380953, 0.7767857142857143, 0.7147713849111078, 0.635813492063492, 1.003252173488762, 0.6722050183963179, 0.777281746031746, 1.1367063492063492, 1.1512896825396826, 0.5709325396825397, 0.5251984126984127, 1.3883928571428572, 1.3992063492063491, 1.1606132233609143, 0.8786706349206349, 0.758234126984127, 0.26875, 1.1732735158666645, 1.2265873015873017, 0.8468253968253968, 1.6808131984063472, 1.921279027761899, 0.9742655793587279, 1.4393849206349207, 1.5203373015873016, 2.4930555555555554, 2.05082326586984, 1.1854166666666666, 1.4200396825396826, 0.591468253968254, 0.789781746031746, 0.9128968253968254, 1.4814484126984127, 0.8432539682539683, 0.9125992063492063, 1.1268262219151701, 1.18425580555238, 1.7392857142857143, 1.1053867579333323, 0.9215623286999987, 1.6459325396825397, 1.0621031746031746, 1.62390873015873, 1.293287037037037, 1.3267956324515502, 1.9652777777777777, 0.9534722222222223, 1.5277777777777777, 1.3320601851851852, 1.0632936507936508, 0.36587301587301585, 0.9246031746031746, 1.1426271435148136, 0.4963293650793651, 1.1557539682539681, 0.9467261904761904, 0.6403935185185186, 1.2797619047619047, 1.4640873015873015, 1.5674899325365068, 0.4152777777777778, 0.8346410324037024, 1.1675595238095238, 0.5878968253968254, 1.376686507936508, 0.8265046296296297, 1.0556652072108492, 1.0746031746031746, 1.1961309523809525, 1.1232638888888888, 1.259623015873016, 0.7661990868415055, 1.0269207139844163, 0.49890873015873016, 1.2787037037037037, 2.739315329361904, 0.9654761904761905, 0.29288675793333224, 1.195486111111111, 0.953968253968254, 0.8866581233091272, 1.384345892012482, 0.9452891805518505]}, {\"line\": {\"color\": \"green\"}, \"name\": \"Sub_metering_3\", \"opacity\": 0.9, \"type\": \"scatter\", \"x\": [\"2006-12-17T00:00:00\", \"2006-12-24T00:00:00\", \"2006-12-31T00:00:00\", \"2007-01-07T00:00:00\", \"2007-01-14T00:00:00\", \"2007-01-21T00:00:00\", \"2007-01-28T00:00:00\", \"2007-02-04T00:00:00\", \"2007-02-11T00:00:00\", \"2007-02-18T00:00:00\", \"2007-02-25T00:00:00\", \"2007-03-04T00:00:00\", \"2007-03-11T00:00:00\", \"2007-03-18T00:00:00\", \"2007-03-25T00:00:00\", \"2007-04-01T00:00:00\", \"2007-04-08T00:00:00\", \"2007-04-15T00:00:00\", \"2007-04-22T00:00:00\", \"2007-04-29T00:00:00\", \"2007-05-06T00:00:00\", \"2007-05-13T00:00:00\", \"2007-05-20T00:00:00\", \"2007-05-27T00:00:00\", \"2007-06-03T00:00:00\", \"2007-06-10T00:00:00\", \"2007-06-17T00:00:00\", \"2007-06-24T00:00:00\", \"2007-07-01T00:00:00\", \"2007-07-08T00:00:00\", \"2007-07-15T00:00:00\", \"2007-07-22T00:00:00\", \"2007-07-29T00:00:00\", \"2007-08-05T00:00:00\", \"2007-08-12T00:00:00\", \"2007-08-19T00:00:00\", \"2007-08-26T00:00:00\", \"2007-09-02T00:00:00\", \"2007-09-09T00:00:00\", \"2007-09-16T00:00:00\", \"2007-09-23T00:00:00\", \"2007-09-30T00:00:00\", \"2007-10-07T00:00:00\", \"2007-10-14T00:00:00\", \"2007-10-21T00:00:00\", \"2007-10-28T00:00:00\", \"2007-11-04T00:00:00\", \"2007-11-11T00:00:00\", \"2007-11-18T00:00:00\", \"2007-11-25T00:00:00\", \"2007-12-02T00:00:00\", \"2007-12-09T00:00:00\", \"2007-12-16T00:00:00\", \"2007-12-23T00:00:00\", \"2007-12-30T00:00:00\", \"2008-01-06T00:00:00\", \"2008-01-13T00:00:00\", \"2008-01-20T00:00:00\", \"2008-01-27T00:00:00\", \"2008-02-03T00:00:00\", \"2008-02-10T00:00:00\", \"2008-02-17T00:00:00\", \"2008-02-24T00:00:00\", \"2008-03-02T00:00:00\", \"2008-03-09T00:00:00\", \"2008-03-16T00:00:00\", \"2008-03-23T00:00:00\", \"2008-03-30T00:00:00\", \"2008-04-06T00:00:00\", \"2008-04-13T00:00:00\", \"2008-04-20T00:00:00\", \"2008-04-27T00:00:00\", \"2008-05-04T00:00:00\", \"2008-05-11T00:00:00\", \"2008-05-18T00:00:00\", \"2008-05-25T00:00:00\", \"2008-06-01T00:00:00\", \"2008-06-08T00:00:00\", \"2008-06-15T00:00:00\", \"2008-06-22T00:00:00\", \"2008-06-29T00:00:00\", \"2008-07-06T00:00:00\", \"2008-07-13T00:00:00\", \"2008-07-20T00:00:00\", \"2008-07-27T00:00:00\", \"2008-08-03T00:00:00\", \"2008-08-10T00:00:00\", \"2008-08-17T00:00:00\", \"2008-08-24T00:00:00\", \"2008-08-31T00:00:00\", \"2008-09-07T00:00:00\", \"2008-09-14T00:00:00\", \"2008-09-21T00:00:00\", \"2008-09-28T00:00:00\", \"2008-10-05T00:00:00\", \"2008-10-12T00:00:00\", \"2008-10-19T00:00:00\", \"2008-10-26T00:00:00\", \"2008-11-02T00:00:00\", \"2008-11-09T00:00:00\", \"2008-11-16T00:00:00\", \"2008-11-23T00:00:00\", \"2008-11-30T00:00:00\", \"2008-12-07T00:00:00\", \"2008-12-14T00:00:00\", \"2008-12-21T00:00:00\", \"2008-12-28T00:00:00\", \"2009-01-04T00:00:00\", \"2009-01-11T00:00:00\", \"2009-01-18T00:00:00\", \"2009-01-25T00:00:00\", \"2009-02-01T00:00:00\", \"2009-02-08T00:00:00\", \"2009-02-15T00:00:00\", \"2009-02-22T00:00:00\", \"2009-03-01T00:00:00\", \"2009-03-08T00:00:00\", \"2009-03-15T00:00:00\", \"2009-03-22T00:00:00\", \"2009-03-29T00:00:00\", \"2009-04-05T00:00:00\", \"2009-04-12T00:00:00\", \"2009-04-19T00:00:00\", \"2009-04-26T00:00:00\", \"2009-05-03T00:00:00\", \"2009-05-10T00:00:00\", \"2009-05-17T00:00:00\", \"2009-05-24T00:00:00\", \"2009-05-31T00:00:00\", \"2009-06-07T00:00:00\", \"2009-06-14T00:00:00\", \"2009-06-21T00:00:00\", \"2009-06-28T00:00:00\", \"2009-07-05T00:00:00\", \"2009-07-12T00:00:00\", \"2009-07-19T00:00:00\", \"2009-07-26T00:00:00\", \"2009-08-02T00:00:00\", \"2009-08-09T00:00:00\", \"2009-08-16T00:00:00\", \"2009-08-23T00:00:00\", \"2009-08-30T00:00:00\", \"2009-09-06T00:00:00\", \"2009-09-13T00:00:00\", \"2009-09-20T00:00:00\", \"2009-09-27T00:00:00\", \"2009-10-04T00:00:00\", \"2009-10-11T00:00:00\", \"2009-10-18T00:00:00\", \"2009-10-25T00:00:00\", \"2009-11-01T00:00:00\", \"2009-11-08T00:00:00\", \"2009-11-15T00:00:00\", \"2009-11-22T00:00:00\", \"2009-11-29T00:00:00\", \"2009-12-06T00:00:00\", \"2009-12-13T00:00:00\", \"2009-12-20T00:00:00\", \"2009-12-27T00:00:00\", \"2010-01-03T00:00:00\", \"2010-01-10T00:00:00\", \"2010-01-17T00:00:00\", \"2010-01-24T00:00:00\", \"2010-01-31T00:00:00\", \"2010-02-07T00:00:00\", \"2010-02-14T00:00:00\", \"2010-02-21T00:00:00\", \"2010-02-28T00:00:00\", \"2010-03-07T00:00:00\", \"2010-03-14T00:00:00\", \"2010-03-21T00:00:00\", \"2010-03-28T00:00:00\", \"2010-04-04T00:00:00\", \"2010-04-11T00:00:00\", \"2010-04-18T00:00:00\", \"2010-04-25T00:00:00\", \"2010-05-02T00:00:00\", \"2010-05-09T00:00:00\", \"2010-05-16T00:00:00\", \"2010-05-23T00:00:00\", \"2010-05-30T00:00:00\", \"2010-06-06T00:00:00\", \"2010-06-13T00:00:00\", \"2010-06-20T00:00:00\", \"2010-06-27T00:00:00\", \"2010-07-04T00:00:00\", \"2010-07-11T00:00:00\", \"2010-07-18T00:00:00\", \"2010-07-25T00:00:00\", \"2010-08-01T00:00:00\", \"2010-08-08T00:00:00\", \"2010-08-15T00:00:00\", \"2010-08-22T00:00:00\", \"2010-08-29T00:00:00\", \"2010-09-05T00:00:00\", \"2010-09-12T00:00:00\", \"2010-09-19T00:00:00\", \"2010-09-26T00:00:00\", \"2010-10-03T00:00:00\", \"2010-10-10T00:00:00\", \"2010-10-17T00:00:00\", \"2010-10-24T00:00:00\", \"2010-10-31T00:00:00\", \"2010-11-07T00:00:00\", \"2010-11-14T00:00:00\", \"2010-11-21T00:00:00\", \"2010-11-28T00:00:00\", \"2010-12-05T00:00:00\", \"2010-12-12T00:00:00\"], \"y\": [9.949346405228757, 7.68451556495181, 6.671618739554985, 6.093299449142572, 6.924710897009589, 8.086507936507937, 7.149648655491777, 7.437003968253968, 5.512599206349206, 7.0906746031746035, 6.212094930031175, 4.123015873015873, 4.062996031746032, 5.842757936507937, 8.163239925333047, 7.361111111111111, 6.026686507936508, 4.1715277777777775, 4.539980158730159, 5.146894939882428, 5.9982240591817515, 5.278769841269841, 4.994841269841269, 5.111111111111111, 3.985019841269841, 5.560263734856857, 5.878670634920635, 2.654852866539111, 5.441216115809238, 6.550892857142857, 5.393511721867659, 3.309470084063206, 3.0881944444444445, 5.2365079365079366, 5.8875, 4.980952380952381, 4.419489925333047, 4.888690476190476, 5.357779861068506, 5.835714285714285, 5.061805555555556, 5.867055247491492, 5.242361111111111, 5.444642857142857, 6.800396825396826, 5.624991755428, 5.691468253968254, 4.667063492063492, 8.262301587301588, 7.247267703110825, 7.347763734856857, 5.082638888888889, 8.11438492063492, 8.315819290412412, 8.441269841269841, 6.428472222222222, 5.43575976660289, 6.9678571428571425, 7.110615079365079, 6.677922465015587, 4.913690476190476, 6.16061507936508, 6.8822338189200645, 3.1796626984126983, 4.563988095238095, 5.766269841269842, 7.368253968253968, 7.506692306285428, 6.478472222222222, 6.262545480888604, 7.646329365079365, 4.917361111111111, 6.6866071428571425, 5.53938492063492, 6.430944136380382, 6.824305555555555, 6.662103174603175, 5.234821428571428, 7.098358972952095, 7.896924603174603, 6.424503968253968, 6.442757936507936, 5.562987787174032, 5.026984126984127, 4.970535714285714, 5.299801587301587, 7.01875, 2.7623015873015873, 1.1151785714285714, 2.1309978618409846, 5.9118055555555555, 6.633035714285715, 6.857539682539683, 7.142857142857143, 6.4596230158730155, 6.257424801502118, 6.3719246031746035, 6.635685836940109, 4.077480158730158, 6.024702380952381, 7.4233134920634924, 6.669093099936222, 8.086507936507937, 7.535416666666666, 5.3607060411422855, 8.186751830094952, 5.71765873015873, 4.779452326084093, 6.625595238095238, 8.943696274539397, 7.317757936507936, 7.837996031746032, 5.984325396825397, 7.511301279237524, 3.7964288429137785, 7.386805555555555, 6.602083333333334, 7.467956349206349, 7.247763734856857, 6.617559523809524, 7.7462301587301585, 5.557738095238095, 5.677471914158159, 6.9538690476190474, 7.331150793650794, 5.9182539682539685, 7.286309523809524, 7.231944444444444, 6.702715807745175, 7.260515873015873, 6.375156246805632, 6.3100787249493875, 6.943948412698413, 7.195337301587301, 5.404960317460318, 3.658234126984127, 3.7118055555555554, 5.227678571428571, 6.604166666666667, 6.799452043174273, 4.745734126984127, 5.6072420634920634, 6.91984126984127, 5.664773501459747, 7.615079365079365, 7.48343253968254, 7.702769533205777, 6.470663912379523, 8.452571120507365, 7.956646825396826, 5.803769841269841, 7.650496031746032, 7.96671214755527, 8.64672619047619, 7.118849206349206, 8.58204365079365, 6.136011904761904, 7.962996031746032, 9.572420634920634, 8.167460317460318, 6.944444444444445, 8.05054526343571, 10.405898655491777, 11.31359126984127, 7.330402623745746, 7.777599357332999, 9.917261904761904, 7.989186507936508, 8.571329365079364, 6.155555555555556, 7.87869769770605, 8.504761904761905, 9.067063492063491, 6.648412698412699, 8.754398148148148, 8.168154761904763, 7.118650793650794, 5.37936507936508, 8.970191949925592, 8.34265873015873, 7.474503968253968, 7.715079365079365, 5.732175925925926, 7.2613095238095235, 6.426785714285714, 5.90500579834892, 6.10188492063492, 4.348316949925592, 4.246130952380953, 4.014781746031746, 8.234722222222222, 5.12650462962963, 5.931025853428682, 6.412698412698413, 8.500396825396825, 5.821875, 5.949404761904762, 7.107057025022475, 7.929386155195572, 6.629761904761905, 7.785069444444445, 8.168200242793365, 5.3468253968253965, 7.508378814221936, 5.870138888888889, 6.285317460317461, 6.412074611989178, 9.819412597825739, 6.438363246221889]}],\n",
              "                        {\"template\": {\"data\": {\"bar\": [{\"error_x\": {\"color\": \"#2a3f5f\"}, \"error_y\": {\"color\": \"#2a3f5f\"}, \"marker\": {\"line\": {\"color\": \"#E5ECF6\", \"width\": 0.5}}, \"type\": \"bar\"}], \"barpolar\": [{\"marker\": {\"line\": {\"color\": \"#E5ECF6\", \"width\": 0.5}}, \"type\": \"barpolar\"}], \"carpet\": [{\"aaxis\": {\"endlinecolor\": \"#2a3f5f\", \"gridcolor\": \"white\", \"linecolor\": \"white\", \"minorgridcolor\": \"white\", \"startlinecolor\": \"#2a3f5f\"}, \"baxis\": {\"endlinecolor\": \"#2a3f5f\", \"gridcolor\": \"white\", \"linecolor\": \"white\", \"minorgridcolor\": \"white\", \"startlinecolor\": \"#2a3f5f\"}, \"type\": \"carpet\"}], \"choropleth\": [{\"colorbar\": {\"outlinewidth\": 0, \"ticks\": \"\"}, \"type\": \"choropleth\"}], \"contour\": [{\"colorbar\": {\"outlinewidth\": 0, \"ticks\": \"\"}, \"colorscale\": [[0.0, \"#0d0887\"], [0.1111111111111111, \"#46039f\"], [0.2222222222222222, \"#7201a8\"], [0.3333333333333333, \"#9c179e\"], [0.4444444444444444, \"#bd3786\"], [0.5555555555555556, \"#d8576b\"], [0.6666666666666666, \"#ed7953\"], [0.7777777777777778, \"#fb9f3a\"], [0.8888888888888888, \"#fdca26\"], [1.0, \"#f0f921\"]], \"type\": \"contour\"}], \"contourcarpet\": [{\"colorbar\": {\"outlinewidth\": 0, \"ticks\": \"\"}, \"type\": \"contourcarpet\"}], \"heatmap\": [{\"colorbar\": {\"outlinewidth\": 0, \"ticks\": \"\"}, \"colorscale\": [[0.0, \"#0d0887\"], [0.1111111111111111, \"#46039f\"], [0.2222222222222222, \"#7201a8\"], [0.3333333333333333, \"#9c179e\"], [0.4444444444444444, \"#bd3786\"], [0.5555555555555556, \"#d8576b\"], [0.6666666666666666, \"#ed7953\"], [0.7777777777777778, \"#fb9f3a\"], [0.8888888888888888, \"#fdca26\"], [1.0, \"#f0f921\"]], \"type\": \"heatmap\"}], \"heatmapgl\": [{\"colorbar\": {\"outlinewidth\": 0, \"ticks\": \"\"}, \"colorscale\": [[0.0, \"#0d0887\"], [0.1111111111111111, \"#46039f\"], [0.2222222222222222, \"#7201a8\"], [0.3333333333333333, \"#9c179e\"], [0.4444444444444444, \"#bd3786\"], [0.5555555555555556, \"#d8576b\"], [0.6666666666666666, \"#ed7953\"], [0.7777777777777778, \"#fb9f3a\"], [0.8888888888888888, \"#fdca26\"], [1.0, \"#f0f921\"]], \"type\": \"heatmapgl\"}], \"histogram\": [{\"marker\": {\"colorbar\": {\"outlinewidth\": 0, \"ticks\": \"\"}}, \"type\": \"histogram\"}], \"histogram2d\": [{\"colorbar\": {\"outlinewidth\": 0, \"ticks\": \"\"}, \"colorscale\": [[0.0, \"#0d0887\"], [0.1111111111111111, \"#46039f\"], [0.2222222222222222, \"#7201a8\"], [0.3333333333333333, \"#9c179e\"], [0.4444444444444444, \"#bd3786\"], [0.5555555555555556, \"#d8576b\"], [0.6666666666666666, \"#ed7953\"], [0.7777777777777778, \"#fb9f3a\"], [0.8888888888888888, \"#fdca26\"], [1.0, \"#f0f921\"]], \"type\": \"histogram2d\"}], \"histogram2dcontour\": [{\"colorbar\": {\"outlinewidth\": 0, \"ticks\": \"\"}, \"colorscale\": [[0.0, \"#0d0887\"], [0.1111111111111111, \"#46039f\"], [0.2222222222222222, \"#7201a8\"], [0.3333333333333333, \"#9c179e\"], [0.4444444444444444, \"#bd3786\"], [0.5555555555555556, \"#d8576b\"], [0.6666666666666666, \"#ed7953\"], [0.7777777777777778, \"#fb9f3a\"], [0.8888888888888888, \"#fdca26\"], [1.0, \"#f0f921\"]], \"type\": \"histogram2dcontour\"}], \"mesh3d\": [{\"colorbar\": {\"outlinewidth\": 0, \"ticks\": \"\"}, \"type\": \"mesh3d\"}], \"parcoords\": [{\"line\": {\"colorbar\": {\"outlinewidth\": 0, \"ticks\": \"\"}}, \"type\": \"parcoords\"}], \"pie\": [{\"automargin\": true, \"type\": \"pie\"}], \"scatter\": [{\"marker\": {\"colorbar\": {\"outlinewidth\": 0, \"ticks\": \"\"}}, \"type\": \"scatter\"}], \"scatter3d\": [{\"line\": {\"colorbar\": {\"outlinewidth\": 0, \"ticks\": \"\"}}, \"marker\": {\"colorbar\": {\"outlinewidth\": 0, \"ticks\": \"\"}}, \"type\": \"scatter3d\"}], \"scattercarpet\": [{\"marker\": {\"colorbar\": {\"outlinewidth\": 0, \"ticks\": \"\"}}, \"type\": \"scattercarpet\"}], \"scattergeo\": [{\"marker\": {\"colorbar\": {\"outlinewidth\": 0, \"ticks\": \"\"}}, \"type\": \"scattergeo\"}], \"scattergl\": [{\"marker\": {\"colorbar\": {\"outlinewidth\": 0, \"ticks\": \"\"}}, \"type\": \"scattergl\"}], \"scattermapbox\": [{\"marker\": {\"colorbar\": {\"outlinewidth\": 0, \"ticks\": \"\"}}, \"type\": \"scattermapbox\"}], \"scatterpolar\": [{\"marker\": {\"colorbar\": {\"outlinewidth\": 0, \"ticks\": \"\"}}, \"type\": \"scatterpolar\"}], \"scatterpolargl\": [{\"marker\": {\"colorbar\": {\"outlinewidth\": 0, \"ticks\": \"\"}}, \"type\": \"scatterpolargl\"}], \"scatterternary\": [{\"marker\": {\"colorbar\": {\"outlinewidth\": 0, \"ticks\": \"\"}}, \"type\": \"scatterternary\"}], \"surface\": [{\"colorbar\": {\"outlinewidth\": 0, \"ticks\": \"\"}, \"colorscale\": [[0.0, \"#0d0887\"], [0.1111111111111111, \"#46039f\"], [0.2222222222222222, \"#7201a8\"], [0.3333333333333333, \"#9c179e\"], [0.4444444444444444, \"#bd3786\"], [0.5555555555555556, \"#d8576b\"], [0.6666666666666666, \"#ed7953\"], [0.7777777777777778, \"#fb9f3a\"], [0.8888888888888888, \"#fdca26\"], [1.0, \"#f0f921\"]], \"type\": \"surface\"}], \"table\": [{\"cells\": {\"fill\": {\"color\": \"#EBF0F8\"}, \"line\": {\"color\": \"white\"}}, \"header\": {\"fill\": {\"color\": \"#C8D4E3\"}, \"line\": {\"color\": \"white\"}}, \"type\": \"table\"}]}, \"layout\": {\"annotationdefaults\": {\"arrowcolor\": \"#2a3f5f\", \"arrowhead\": 0, \"arrowwidth\": 1}, \"coloraxis\": {\"colorbar\": {\"outlinewidth\": 0, \"ticks\": \"\"}}, \"colorscale\": {\"diverging\": [[0, \"#8e0152\"], [0.1, \"#c51b7d\"], [0.2, \"#de77ae\"], [0.3, \"#f1b6da\"], [0.4, \"#fde0ef\"], [0.5, \"#f7f7f7\"], [0.6, \"#e6f5d0\"], [0.7, \"#b8e186\"], [0.8, \"#7fbc41\"], [0.9, \"#4d9221\"], [1, \"#276419\"]], \"sequential\": [[0.0, \"#0d0887\"], [0.1111111111111111, \"#46039f\"], [0.2222222222222222, \"#7201a8\"], [0.3333333333333333, \"#9c179e\"], [0.4444444444444444, \"#bd3786\"], [0.5555555555555556, \"#d8576b\"], [0.6666666666666666, \"#ed7953\"], [0.7777777777777778, \"#fb9f3a\"], [0.8888888888888888, \"#fdca26\"], [1.0, \"#f0f921\"]], \"sequentialminus\": [[0.0, \"#0d0887\"], [0.1111111111111111, \"#46039f\"], [0.2222222222222222, \"#7201a8\"], [0.3333333333333333, \"#9c179e\"], [0.4444444444444444, \"#bd3786\"], [0.5555555555555556, \"#d8576b\"], [0.6666666666666666, \"#ed7953\"], [0.7777777777777778, \"#fb9f3a\"], [0.8888888888888888, \"#fdca26\"], [1.0, \"#f0f921\"]]}, \"colorway\": [\"#636efa\", \"#EF553B\", \"#00cc96\", \"#ab63fa\", \"#FFA15A\", \"#19d3f3\", \"#FF6692\", \"#B6E880\", \"#FF97FF\", \"#FECB52\"], \"font\": {\"color\": \"#2a3f5f\"}, \"geo\": {\"bgcolor\": \"white\", \"lakecolor\": \"white\", \"landcolor\": \"#E5ECF6\", \"showlakes\": true, \"showland\": true, \"subunitcolor\": \"white\"}, \"hoverlabel\": {\"align\": \"left\"}, \"hovermode\": \"closest\", \"mapbox\": {\"style\": \"light\"}, \"paper_bgcolor\": \"white\", \"plot_bgcolor\": \"#E5ECF6\", \"polar\": {\"angularaxis\": {\"gridcolor\": \"white\", \"linecolor\": \"white\", \"ticks\": \"\"}, \"bgcolor\": \"#E5ECF6\", \"radialaxis\": {\"gridcolor\": \"white\", \"linecolor\": \"white\", \"ticks\": \"\"}}, \"scene\": {\"xaxis\": {\"backgroundcolor\": \"#E5ECF6\", \"gridcolor\": \"white\", \"gridwidth\": 2, \"linecolor\": \"white\", \"showbackground\": true, \"ticks\": \"\", \"zerolinecolor\": \"white\"}, \"yaxis\": {\"backgroundcolor\": \"#E5ECF6\", \"gridcolor\": \"white\", \"gridwidth\": 2, \"linecolor\": \"white\", \"showbackground\": true, \"ticks\": \"\", \"zerolinecolor\": \"white\"}, \"zaxis\": {\"backgroundcolor\": \"#E5ECF6\", \"gridcolor\": \"white\", \"gridwidth\": 2, \"linecolor\": \"white\", \"showbackground\": true, \"ticks\": \"\", \"zerolinecolor\": \"white\"}}, \"shapedefaults\": {\"line\": {\"color\": \"#2a3f5f\"}}, \"ternary\": {\"aaxis\": {\"gridcolor\": \"white\", \"linecolor\": \"white\", \"ticks\": \"\"}, \"baxis\": {\"gridcolor\": \"white\", \"linecolor\": \"white\", \"ticks\": \"\"}, \"bgcolor\": \"#E5ECF6\", \"caxis\": {\"gridcolor\": \"white\", \"linecolor\": \"white\", \"ticks\": \"\"}}, \"title\": {\"x\": 0.05}, \"xaxis\": {\"automargin\": true, \"gridcolor\": \"white\", \"linecolor\": \"white\", \"ticks\": \"\", \"title\": {\"standoff\": 15}, \"zerolinecolor\": \"white\", \"zerolinewidth\": 2}, \"yaxis\": {\"automargin\": true, \"gridcolor\": \"white\", \"linecolor\": \"white\", \"ticks\": \"\", \"title\": {\"standoff\": 15}, \"zerolinecolor\": \"white\", \"zerolinewidth\": 2}}}, \"title\": {\"text\": \"Sub metering\"}, \"xaxis\": {\"range\": [\"2006-12-16\", \"2010-11-26\"]}},\n",
              "                        {\"responsive\": true}\n",
              "                    ).then(function(){\n",
              "                            \n",
              "var gd = document.getElementById('ca2b07f4-9ba7-4a67-892c-325c12fc5962');\n",
              "var x = new MutationObserver(function (mutations, observer) {{\n",
              "        var display = window.getComputedStyle(gd).display;\n",
              "        if (!display || display === 'none') {{\n",
              "            console.log([gd, 'removed!']);\n",
              "            Plotly.purge(gd);\n",
              "            observer.disconnect();\n",
              "        }}\n",
              "}});\n",
              "\n",
              "// Listen for the removal of the full notebook cells\n",
              "var notebookContainer = gd.closest('#notebook-container');\n",
              "if (notebookContainer) {{\n",
              "    x.observe(notebookContainer, {childList: true});\n",
              "}}\n",
              "\n",
              "// Listen for the clearing of the current output cell\n",
              "var outputEl = gd.closest('.output');\n",
              "if (outputEl) {{\n",
              "    x.observe(outputEl, {childList: true});\n",
              "}}\n",
              "\n",
              "                        })\n",
              "                };\n",
              "                \n",
              "            </script>\n",
              "        </div>\n",
              "</body>\n",
              "</html>"
            ]
          },
          "metadata": {
            "tags": []
          }
        }
      ]
    },
    {
      "cell_type": "code",
      "metadata": {
        "id": "WUXtTdu5f5mq",
        "colab_type": "code",
        "outputId": "b351803d-0678-4325-c852-4622d6a30292",
        "colab": {
          "base_uri": "https://localhost:8080/",
          "height": 246
        }
      },
      "source": [
        "df_resample.values"
      ],
      "execution_count": 0,
      "outputs": [
        {
          "output_type": "execute_result",
          "data": {
            "text/plain": [
              "array([[4.22288889e+00, 2.29000000e-01, 2.34643889e+02, ...,\n",
              "        0.00000000e+00, 5.27777778e-01, 1.68611111e+01],\n",
              "       [3.63220000e+00, 8.00333333e-02, 2.34580167e+02, ...,\n",
              "        0.00000000e+00, 6.71666667e+00, 1.68666667e+01],\n",
              "       [3.40023333e+00, 8.52333333e-02, 2.33232500e+02, ...,\n",
              "        0.00000000e+00, 1.43333333e+00, 1.66833333e+01],\n",
              "       ...,\n",
              "       [1.11490000e+00, 8.58000000e-02, 2.36543667e+02, ...,\n",
              "        8.55000000e+00, 4.50000000e-01, 0.00000000e+00],\n",
              "       [3.20533333e-01, 7.62333333e-02, 2.40140667e+02, ...,\n",
              "        0.00000000e+00, 0.00000000e+00, 0.00000000e+00],\n",
              "       [6.39866667e-01, 4.97666667e-02, 2.43371500e+02, ...,\n",
              "        0.00000000e+00, 0.00000000e+00, 0.00000000e+00]])"
            ]
          },
          "metadata": {
            "tags": []
          },
          "execution_count": 36
        }
      ]
    },
    {
      "cell_type": "code",
      "metadata": {
        "id": "rXzxF58tf7sL",
        "colab_type": "code",
        "outputId": "dcd55f1b-ae9c-4ecd-9697-db07a59cbac3",
        "colab": {
          "base_uri": "https://localhost:8080/",
          "height": 34
        }
      },
      "source": [
        "type(df_resample.values)"
      ],
      "execution_count": 0,
      "outputs": [
        {
          "output_type": "execute_result",
          "data": {
            "text/plain": [
              "numpy.ndarray"
            ]
          },
          "metadata": {
            "tags": []
          },
          "execution_count": 37
        }
      ]
    },
    {
      "cell_type": "code",
      "metadata": {
        "id": "8jBQiDx4f_g0",
        "colab_type": "code",
        "colab": {}
      },
      "source": [
        "n_train_time = 365*24\n",
        "df_resample_value = df_resample.values\n",
        "train = df_resample_value[:n_train_time, :]\n",
        "test  = df_resample_value[n_train_time:, :]"
      ],
      "execution_count": 0,
      "outputs": []
    },
    {
      "cell_type": "code",
      "metadata": {
        "id": "G2251gTvgERV",
        "colab_type": "code",
        "colab": {}
      },
      "source": [
        "scaler = MinMaxScaler(feature_range=(0, 1))\n",
        "train = scaler.fit_transform(train)\n",
        "test  = scaler.transform(test)"
      ],
      "execution_count": 0,
      "outputs": []
    },
    {
      "cell_type": "code",
      "metadata": {
        "id": "fLbaE7R8gHmx",
        "colab_type": "code",
        "colab": {}
      },
      "source": [
        "def series_to_supervised(data, n_in=1, n_out=1, dropnan=True):\n",
        "    n_vars = 1 if type(data) is list else data.shape[1]\n",
        "    dff = pd.DataFrame(data)\n",
        "    cols, names = list(), list()\n",
        "    # input sequence (t-n, ... t-1)\n",
        "    for i in range(n_in, 0, -1):\n",
        "        cols.append(dff.shift(i))\n",
        "        names += [('var%d(t-%d)' % (j+1, i)) for j in range(n_vars)]\n",
        "    # forecast sequence (t, t+1, ... t+n)\n",
        "    for i in range(0, n_out):\n",
        "        cols.append(dff.shift(-i))\n",
        "        if i == 0:\n",
        "            names += [('var%d(t)' % (j+1)) for j in range(n_vars)]\n",
        "        else:\n",
        "            names += [('var%d(t+%d)' % (j+1, i)) for j in range(n_vars)]\n",
        "    # put it all together\n",
        "    agg = pd.concat(cols, axis=1)\n",
        "    agg.columns = names\n",
        "    # drop rows with NaN values\n",
        "    if dropnan:\n",
        "        agg.dropna(inplace=True)\n",
        "    return agg\n",
        "    #Kaggle 커널의 함수, 이해해보자"
      ],
      "execution_count": 0,
      "outputs": []
    },
    {
      "cell_type": "code",
      "metadata": {
        "id": "ZwKlApm5gQ3z",
        "colab_type": "code",
        "outputId": "1985f56b-933b-48f7-f3c5-c7c476375e0b",
        "colab": {
          "base_uri": "https://localhost:8080/",
          "height": 195
        }
      },
      "source": [
        "train = series_to_supervised(train, 1, 1)\n",
        "train.head()"
      ],
      "execution_count": 0,
      "outputs": [
        {
          "output_type": "execute_result",
          "data": {
            "text/html": [
              "<div>\n",
              "<style scoped>\n",
              "    .dataframe tbody tr th:only-of-type {\n",
              "        vertical-align: middle;\n",
              "    }\n",
              "\n",
              "    .dataframe tbody tr th {\n",
              "        vertical-align: top;\n",
              "    }\n",
              "\n",
              "    .dataframe thead th {\n",
              "        text-align: right;\n",
              "    }\n",
              "</style>\n",
              "<table border=\"1\" class=\"dataframe\">\n",
              "  <thead>\n",
              "    <tr style=\"text-align: right;\">\n",
              "      <th></th>\n",
              "      <th>var1(t-1)</th>\n",
              "      <th>var2(t-1)</th>\n",
              "      <th>var3(t-1)</th>\n",
              "      <th>var4(t-1)</th>\n",
              "      <th>var5(t-1)</th>\n",
              "      <th>var6(t-1)</th>\n",
              "      <th>var7(t-1)</th>\n",
              "      <th>var1(t)</th>\n",
              "      <th>var2(t)</th>\n",
              "      <th>var3(t)</th>\n",
              "      <th>var4(t)</th>\n",
              "      <th>var5(t)</th>\n",
              "      <th>var6(t)</th>\n",
              "      <th>var7(t)</th>\n",
              "    </tr>\n",
              "  </thead>\n",
              "  <tbody>\n",
              "    <tr>\n",
              "      <th>1</th>\n",
              "      <td>0.656075</td>\n",
              "      <td>0.375233</td>\n",
              "      <td>0.359450</td>\n",
              "      <td>0.645328</td>\n",
              "      <td>0.0</td>\n",
              "      <td>0.012616</td>\n",
              "      <td>0.897663</td>\n",
              "      <td>0.561187</td>\n",
              "      <td>0.106453</td>\n",
              "      <td>0.356849</td>\n",
              "      <td>0.552998</td>\n",
              "      <td>0.0</td>\n",
              "      <td>0.160558</td>\n",
              "      <td>0.897959</td>\n",
              "    </tr>\n",
              "    <tr>\n",
              "      <th>2</th>\n",
              "      <td>0.561187</td>\n",
              "      <td>0.106453</td>\n",
              "      <td>0.356849</td>\n",
              "      <td>0.552998</td>\n",
              "      <td>0.0</td>\n",
              "      <td>0.160558</td>\n",
              "      <td>0.897959</td>\n",
              "      <td>0.523925</td>\n",
              "      <td>0.115836</td>\n",
              "      <td>0.301861</td>\n",
              "      <td>0.512495</td>\n",
              "      <td>0.0</td>\n",
              "      <td>0.034263</td>\n",
              "      <td>0.888199</td>\n",
              "    </tr>\n",
              "    <tr>\n",
              "      <th>3</th>\n",
              "      <td>0.523925</td>\n",
              "      <td>0.115836</td>\n",
              "      <td>0.301861</td>\n",
              "      <td>0.512495</td>\n",
              "      <td>0.0</td>\n",
              "      <td>0.034263</td>\n",
              "      <td>0.888199</td>\n",
              "      <td>0.502774</td>\n",
              "      <td>0.097552</td>\n",
              "      <td>0.336094</td>\n",
              "      <td>0.490829</td>\n",
              "      <td>0.0</td>\n",
              "      <td>0.000000</td>\n",
              "      <td>0.893523</td>\n",
              "    </tr>\n",
              "    <tr>\n",
              "      <th>4</th>\n",
              "      <td>0.502774</td>\n",
              "      <td>0.097552</td>\n",
              "      <td>0.336094</td>\n",
              "      <td>0.490829</td>\n",
              "      <td>0.0</td>\n",
              "      <td>0.000000</td>\n",
              "      <td>0.893523</td>\n",
              "      <td>0.468702</td>\n",
              "      <td>0.100379</td>\n",
              "      <td>0.462060</td>\n",
              "      <td>0.458698</td>\n",
              "      <td>0.0</td>\n",
              "      <td>0.009960</td>\n",
              "      <td>0.916593</td>\n",
              "    </tr>\n",
              "    <tr>\n",
              "      <th>5</th>\n",
              "      <td>0.468702</td>\n",
              "      <td>0.100379</td>\n",
              "      <td>0.462060</td>\n",
              "      <td>0.458698</td>\n",
              "      <td>0.0</td>\n",
              "      <td>0.009960</td>\n",
              "      <td>0.916593</td>\n",
              "      <td>0.331142</td>\n",
              "      <td>0.063391</td>\n",
              "      <td>0.527399</td>\n",
              "      <td>0.328573</td>\n",
              "      <td>0.0</td>\n",
              "      <td>0.003187</td>\n",
              "      <td>0.236025</td>\n",
              "    </tr>\n",
              "  </tbody>\n",
              "</table>\n",
              "</div>"
            ],
            "text/plain": [
              "   var1(t-1)  var2(t-1)  var3(t-1)  ...  var5(t)   var6(t)   var7(t)\n",
              "1   0.656075   0.375233   0.359450  ...      0.0  0.160558  0.897959\n",
              "2   0.561187   0.106453   0.356849  ...      0.0  0.034263  0.888199\n",
              "3   0.523925   0.115836   0.301861  ...      0.0  0.000000  0.893523\n",
              "4   0.502774   0.097552   0.336094  ...      0.0  0.009960  0.916593\n",
              "5   0.468702   0.100379   0.462060  ...      0.0  0.003187  0.236025\n",
              "\n",
              "[5 rows x 14 columns]"
            ]
          },
          "metadata": {
            "tags": []
          },
          "execution_count": 41
        }
      ]
    },
    {
      "cell_type": "code",
      "metadata": {
        "id": "JiAeKP-qga_M",
        "colab_type": "code",
        "outputId": "0214805e-77cd-4744-e238-9f5b1c1c48ec",
        "colab": {
          "base_uri": "https://localhost:8080/",
          "height": 87
        }
      },
      "source": [
        "test[:2]"
      ],
      "execution_count": 0,
      "outputs": [
        {
          "output_type": "execute_result",
          "data": {
            "text/plain": [
              "array([[0.37529049, 0.08023095, 0.50875224, 0.35934999, 0.        ,\n",
              "        0.00996016, 0.92812777],\n",
              "       [0.39965409, 0.03867204, 0.48193787, 0.38286347, 0.        ,\n",
              "        0.        , 0.9228039 ]])"
            ]
          },
          "metadata": {
            "tags": []
          },
          "execution_count": 42
        }
      ]
    },
    {
      "cell_type": "code",
      "metadata": {
        "id": "Tfagw0xugfoF",
        "colab_type": "code",
        "outputId": "ce3ffb19-1ed5-4cc1-ecdf-5577528d39af",
        "colab": {
          "base_uri": "https://localhost:8080/",
          "height": 195
        }
      },
      "source": [
        "test = series_to_supervised(test, 1, 1)\n",
        "test.head()"
      ],
      "execution_count": 0,
      "outputs": [
        {
          "output_type": "execute_result",
          "data": {
            "text/html": [
              "<div>\n",
              "<style scoped>\n",
              "    .dataframe tbody tr th:only-of-type {\n",
              "        vertical-align: middle;\n",
              "    }\n",
              "\n",
              "    .dataframe tbody tr th {\n",
              "        vertical-align: top;\n",
              "    }\n",
              "\n",
              "    .dataframe thead th {\n",
              "        text-align: right;\n",
              "    }\n",
              "</style>\n",
              "<table border=\"1\" class=\"dataframe\">\n",
              "  <thead>\n",
              "    <tr style=\"text-align: right;\">\n",
              "      <th></th>\n",
              "      <th>var1(t-1)</th>\n",
              "      <th>var2(t-1)</th>\n",
              "      <th>var3(t-1)</th>\n",
              "      <th>var4(t-1)</th>\n",
              "      <th>var5(t-1)</th>\n",
              "      <th>var6(t-1)</th>\n",
              "      <th>var7(t-1)</th>\n",
              "      <th>var1(t)</th>\n",
              "      <th>var2(t)</th>\n",
              "      <th>var3(t)</th>\n",
              "      <th>var4(t)</th>\n",
              "      <th>var5(t)</th>\n",
              "      <th>var6(t)</th>\n",
              "      <th>var7(t)</th>\n",
              "    </tr>\n",
              "  </thead>\n",
              "  <tbody>\n",
              "    <tr>\n",
              "      <th>1</th>\n",
              "      <td>0.375290</td>\n",
              "      <td>0.080231</td>\n",
              "      <td>0.508752</td>\n",
              "      <td>0.359350</td>\n",
              "      <td>0.000000</td>\n",
              "      <td>0.009960</td>\n",
              "      <td>0.928128</td>\n",
              "      <td>0.399654</td>\n",
              "      <td>0.038672</td>\n",
              "      <td>0.481938</td>\n",
              "      <td>0.382863</td>\n",
              "      <td>0.000000</td>\n",
              "      <td>0.000000</td>\n",
              "      <td>0.922804</td>\n",
              "    </tr>\n",
              "    <tr>\n",
              "      <th>2</th>\n",
              "      <td>0.399654</td>\n",
              "      <td>0.038672</td>\n",
              "      <td>0.481938</td>\n",
              "      <td>0.382863</td>\n",
              "      <td>0.000000</td>\n",
              "      <td>0.000000</td>\n",
              "      <td>0.922804</td>\n",
              "      <td>0.432997</td>\n",
              "      <td>0.350514</td>\n",
              "      <td>0.501530</td>\n",
              "      <td>0.418195</td>\n",
              "      <td>0.000000</td>\n",
              "      <td>0.009562</td>\n",
              "      <td>0.926353</td>\n",
              "    </tr>\n",
              "    <tr>\n",
              "      <th>3</th>\n",
              "      <td>0.432997</td>\n",
              "      <td>0.350514</td>\n",
              "      <td>0.501530</td>\n",
              "      <td>0.418195</td>\n",
              "      <td>0.000000</td>\n",
              "      <td>0.009562</td>\n",
              "      <td>0.926353</td>\n",
              "      <td>0.582868</td>\n",
              "      <td>0.087989</td>\n",
              "      <td>0.516342</td>\n",
              "      <td>0.561000</td>\n",
              "      <td>0.160924</td>\n",
              "      <td>0.000000</td>\n",
              "      <td>0.929902</td>\n",
              "    </tr>\n",
              "    <tr>\n",
              "      <th>4</th>\n",
              "      <td>0.582868</td>\n",
              "      <td>0.087989</td>\n",
              "      <td>0.516342</td>\n",
              "      <td>0.561000</td>\n",
              "      <td>0.160924</td>\n",
              "      <td>0.000000</td>\n",
              "      <td>0.929902</td>\n",
              "      <td>0.357020</td>\n",
              "      <td>0.128105</td>\n",
              "      <td>0.684770</td>\n",
              "      <td>0.336698</td>\n",
              "      <td>0.183666</td>\n",
              "      <td>0.008765</td>\n",
              "      <td>0.570541</td>\n",
              "    </tr>\n",
              "    <tr>\n",
              "      <th>5</th>\n",
              "      <td>0.357020</td>\n",
              "      <td>0.128105</td>\n",
              "      <td>0.684770</td>\n",
              "      <td>0.336698</td>\n",
              "      <td>0.183666</td>\n",
              "      <td>0.008765</td>\n",
              "      <td>0.570541</td>\n",
              "      <td>0.044326</td>\n",
              "      <td>0.095868</td>\n",
              "      <td>0.753747</td>\n",
              "      <td>0.041364</td>\n",
              "      <td>0.000000</td>\n",
              "      <td>0.001195</td>\n",
              "      <td>0.000000</td>\n",
              "    </tr>\n",
              "  </tbody>\n",
              "</table>\n",
              "</div>"
            ],
            "text/plain": [
              "   var1(t-1)  var2(t-1)  var3(t-1)  ...   var5(t)   var6(t)   var7(t)\n",
              "1   0.375290   0.080231   0.508752  ...  0.000000  0.000000  0.922804\n",
              "2   0.399654   0.038672   0.481938  ...  0.000000  0.009562  0.926353\n",
              "3   0.432997   0.350514   0.501530  ...  0.160924  0.000000  0.929902\n",
              "4   0.582868   0.087989   0.516342  ...  0.183666  0.008765  0.570541\n",
              "5   0.357020   0.128105   0.684770  ...  0.000000  0.001195  0.000000\n",
              "\n",
              "[5 rows x 14 columns]"
            ]
          },
          "metadata": {
            "tags": []
          },
          "execution_count": 43
        }
      ]
    },
    {
      "cell_type": "code",
      "metadata": {
        "id": "iGB7bHDFgkDx",
        "colab_type": "code",
        "outputId": "f023ea57-7818-48cf-823b-e65a265514e3",
        "colab": {
          "base_uri": "https://localhost:8080/",
          "height": 77
        }
      },
      "source": [
        "train.drop(train.columns[[8, 9, 10, 11, 12, 13]], axis=1, inplace=True)\n",
        "test.drop(test.columns[[8, 9, 10, 11, 12, 13]], axis=1, inplace=True)\n",
        "train[:1]"
      ],
      "execution_count": 0,
      "outputs": [
        {
          "output_type": "execute_result",
          "data": {
            "text/html": [
              "<div>\n",
              "<style scoped>\n",
              "    .dataframe tbody tr th:only-of-type {\n",
              "        vertical-align: middle;\n",
              "    }\n",
              "\n",
              "    .dataframe tbody tr th {\n",
              "        vertical-align: top;\n",
              "    }\n",
              "\n",
              "    .dataframe thead th {\n",
              "        text-align: right;\n",
              "    }\n",
              "</style>\n",
              "<table border=\"1\" class=\"dataframe\">\n",
              "  <thead>\n",
              "    <tr style=\"text-align: right;\">\n",
              "      <th></th>\n",
              "      <th>var1(t-1)</th>\n",
              "      <th>var2(t-1)</th>\n",
              "      <th>var3(t-1)</th>\n",
              "      <th>var4(t-1)</th>\n",
              "      <th>var5(t-1)</th>\n",
              "      <th>var6(t-1)</th>\n",
              "      <th>var7(t-1)</th>\n",
              "      <th>var1(t)</th>\n",
              "    </tr>\n",
              "  </thead>\n",
              "  <tbody>\n",
              "    <tr>\n",
              "      <th>1</th>\n",
              "      <td>0.656075</td>\n",
              "      <td>0.375233</td>\n",
              "      <td>0.35945</td>\n",
              "      <td>0.645328</td>\n",
              "      <td>0.0</td>\n",
              "      <td>0.012616</td>\n",
              "      <td>0.897663</td>\n",
              "      <td>0.561187</td>\n",
              "    </tr>\n",
              "  </tbody>\n",
              "</table>\n",
              "</div>"
            ],
            "text/plain": [
              "   var1(t-1)  var2(t-1)  var3(t-1)  ...  var6(t-1)  var7(t-1)   var1(t)\n",
              "1   0.656075   0.375233    0.35945  ...   0.012616   0.897663  0.561187\n",
              "\n",
              "[1 rows x 8 columns]"
            ]
          },
          "metadata": {
            "tags": []
          },
          "execution_count": 44
        }
      ]
    },
    {
      "cell_type": "code",
      "metadata": {
        "id": "1JxjmVF4goa1",
        "colab_type": "code",
        "colab": {}
      },
      "source": [
        "x_train = train.drop([\"var1(t)\"], axis=1)\n",
        "y_train = train[\"var1(t)\"]\n",
        "\n",
        "x_test = test.drop([\"var1(t)\"], axis=1)\n",
        "y_test = test[\"var1(t)\"]\n",
        "#drop을 통해 xy로 변경"
      ],
      "execution_count": 0,
      "outputs": []
    },
    {
      "cell_type": "code",
      "metadata": {
        "id": "zVPUJRukguBW",
        "colab_type": "code",
        "outputId": "bad2c170-3c4b-461d-f9b3-6518d903573c",
        "colab": {
          "base_uri": "https://localhost:8080/",
          "height": 34
        }
      },
      "source": [
        "x_train = np.array(x_train).reshape((x_train.shape[0], 1, x_train.shape[1]))\n",
        "x_test  = np.array(x_test).reshape((x_test.shape[0], 1, x_test.shape[1]))\n",
        "print(x_train.shape, y_train.shape, x_test.shape, y_test.shape) \n",
        "#3차원회"
      ],
      "execution_count": 0,
      "outputs": [
        {
          "output_type": "stream",
          "text": [
            "(8759, 1, 7) (8759,) (25816, 1, 7) (25816,)\n"
          ],
          "name": "stdout"
        }
      ]
    },
    {
      "cell_type": "code",
      "metadata": {
        "id": "6aEnK8OPg2cy",
        "colab_type": "code",
        "colab": {}
      },
      "source": [
        "y_train, y_test = np.array(y_train), np.array(y_test)"
      ],
      "execution_count": 0,
      "outputs": []
    },
    {
      "cell_type": "code",
      "metadata": {
        "id": "iS66SoC_g52g",
        "colab_type": "code",
        "outputId": "ae9f46e7-ddb0-4f32-b20d-e812242577ac",
        "colab": {
          "base_uri": "https://localhost:8080/",
          "height": 738
        }
      },
      "source": [
        "model = Sequential()\n",
        "model.add(LSTM(100, input_shape=(x_train.shape[1], x_train.shape[2])))#셀100개\n",
        "model.add(Dropout(0.2))#비율\n",
        "model.add(Dense(1))\n",
        "model.compile(loss='mean_squared_error', optimizer='adam')\n",
        "\n",
        "# fit network\n",
        "history = model.fit(x_train, y_train, epochs=20, batch_size=70, validation_data=(x_test, y_test), verbose=2, shuffle=False)"
      ],
      "execution_count": 0,
      "outputs": [
        {
          "output_type": "stream",
          "text": [
            "Train on 8759 samples, validate on 25816 samples\n",
            "Epoch 1/20\n",
            "8759/8759 - 3s - loss: 0.0217 - val_loss: 0.0120\n",
            "Epoch 2/20\n",
            "8759/8759 - 1s - loss: 0.0141 - val_loss: 0.0107\n",
            "Epoch 3/20\n",
            "8759/8759 - 1s - loss: 0.0128 - val_loss: 0.0099\n",
            "Epoch 4/20\n",
            "8759/8759 - 1s - loss: 0.0120 - val_loss: 0.0095\n",
            "Epoch 5/20\n",
            "8759/8759 - 1s - loss: 0.0117 - val_loss: 0.0094\n",
            "Epoch 6/20\n",
            "8759/8759 - 1s - loss: 0.0116 - val_loss: 0.0094\n",
            "Epoch 7/20\n",
            "8759/8759 - 1s - loss: 0.0116 - val_loss: 0.0094\n",
            "Epoch 8/20\n",
            "8759/8759 - 1s - loss: 0.0116 - val_loss: 0.0094\n",
            "Epoch 9/20\n",
            "8759/8759 - 1s - loss: 0.0115 - val_loss: 0.0094\n",
            "Epoch 10/20\n",
            "8759/8759 - 1s - loss: 0.0116 - val_loss: 0.0094\n",
            "Epoch 11/20\n",
            "8759/8759 - 1s - loss: 0.0115 - val_loss: 0.0093\n",
            "Epoch 12/20\n",
            "8759/8759 - 1s - loss: 0.0115 - val_loss: 0.0093\n",
            "Epoch 13/20\n",
            "8759/8759 - 1s - loss: 0.0114 - val_loss: 0.0093\n",
            "Epoch 14/20\n",
            "8759/8759 - 1s - loss: 0.0115 - val_loss: 0.0093\n",
            "Epoch 15/20\n",
            "8759/8759 - 1s - loss: 0.0114 - val_loss: 0.0093\n",
            "Epoch 16/20\n",
            "8759/8759 - 1s - loss: 0.0114 - val_loss: 0.0093\n",
            "Epoch 17/20\n",
            "8759/8759 - 1s - loss: 0.0114 - val_loss: 0.0093\n",
            "Epoch 18/20\n",
            "8759/8759 - 1s - loss: 0.0114 - val_loss: 0.0092\n",
            "Epoch 19/20\n",
            "8759/8759 - 1s - loss: 0.0114 - val_loss: 0.0093\n",
            "Epoch 20/20\n",
            "8759/8759 - 1s - loss: 0.0113 - val_loss: 0.0093\n"
          ],
          "name": "stdout"
        }
      ]
    },
    {
      "cell_type": "code",
      "metadata": {
        "id": "IA6WsmlqhO3S",
        "colab_type": "code",
        "colab": {}
      },
      "source": [
        "prediction = model.predict(x_test)"
      ],
      "execution_count": 0,
      "outputs": []
    },
    {
      "cell_type": "code",
      "metadata": {
        "id": "-h3W_-w0jJ54",
        "colab_type": "code",
        "colab": {}
      },
      "source": [
        "tmp = []\n",
        "for i in range(200):\n",
        "  tmp.append(i)"
      ],
      "execution_count": 0,
      "outputs": []
    },
    {
      "cell_type": "code",
      "metadata": {
        "id": "MDzEmoquhbG5",
        "colab_type": "code",
        "outputId": "1a77650a-6248-45f9-c12b-2d38400033c9",
        "colab": {
          "base_uri": "https://localhost:8080/",
          "height": 1000
        }
      },
      "source": [
        "ts = [x for x in range(200) if x>100]\n",
        "ts"
      ],
      "execution_count": 0,
      "outputs": [
        {
          "output_type": "execute_result",
          "data": {
            "text/plain": [
              "[101,\n",
              " 102,\n",
              " 103,\n",
              " 104,\n",
              " 105,\n",
              " 106,\n",
              " 107,\n",
              " 108,\n",
              " 109,\n",
              " 110,\n",
              " 111,\n",
              " 112,\n",
              " 113,\n",
              " 114,\n",
              " 115,\n",
              " 116,\n",
              " 117,\n",
              " 118,\n",
              " 119,\n",
              " 120,\n",
              " 121,\n",
              " 122,\n",
              " 123,\n",
              " 124,\n",
              " 125,\n",
              " 126,\n",
              " 127,\n",
              " 128,\n",
              " 129,\n",
              " 130,\n",
              " 131,\n",
              " 132,\n",
              " 133,\n",
              " 134,\n",
              " 135,\n",
              " 136,\n",
              " 137,\n",
              " 138,\n",
              " 139,\n",
              " 140,\n",
              " 141,\n",
              " 142,\n",
              " 143,\n",
              " 144,\n",
              " 145,\n",
              " 146,\n",
              " 147,\n",
              " 148,\n",
              " 149,\n",
              " 150,\n",
              " 151,\n",
              " 152,\n",
              " 153,\n",
              " 154,\n",
              " 155,\n",
              " 156,\n",
              " 157,\n",
              " 158,\n",
              " 159,\n",
              " 160,\n",
              " 161,\n",
              " 162,\n",
              " 163,\n",
              " 164,\n",
              " 165,\n",
              " 166,\n",
              " 167,\n",
              " 168,\n",
              " 169,\n",
              " 170,\n",
              " 171,\n",
              " 172,\n",
              " 173,\n",
              " 174,\n",
              " 175,\n",
              " 176,\n",
              " 177,\n",
              " 178,\n",
              " 179,\n",
              " 180,\n",
              " 181,\n",
              " 182,\n",
              " 183,\n",
              " 184,\n",
              " 185,\n",
              " 186,\n",
              " 187,\n",
              " 188,\n",
              " 189,\n",
              " 190,\n",
              " 191,\n",
              " 192,\n",
              " 193,\n",
              " 194,\n",
              " 195,\n",
              " 196,\n",
              " 197,\n",
              " 198,\n",
              " 199]"
            ]
          },
          "metadata": {
            "tags": []
          },
          "execution_count": 53
        }
      ]
    },
    {
      "cell_type": "code",
      "metadata": {
        "id": "brVqABAmhTu_",
        "colab_type": "code",
        "colab": {
          "base_uri": "https://localhost:8080/",
          "height": 239
        },
        "outputId": "b19c7328-3eb3-413a-ae51-ec15625e078a"
      },
      "source": [
        "#\n",
        "ts =[x for x in range(200)]\n",
        "plt.plot(ts, y_test[:200], marker='.', label=\"actual\")\n",
        "plt.plot(ts, prediction[:200], 'r', label=\"prediction\")\n",
        "plt.ylabel('Global_active_power', size=15)\n",
        "plt.xlabel('Time step', size=15)\n",
        "plt.legend(fontsize=15)\n",
        "plt.show()"
      ],
      "execution_count": 2,
      "outputs": [
        {
          "output_type": "error",
          "ename": "NameError",
          "evalue": "ignored",
          "traceback": [
            "\u001b[0;31m---------------------------------------------------------------------------\u001b[0m",
            "\u001b[0;31mNameError\u001b[0m                                 Traceback (most recent call last)",
            "\u001b[0;32m<ipython-input-2-c5654e78c6dc>\u001b[0m in \u001b[0;36m<module>\u001b[0;34m()\u001b[0m\n\u001b[1;32m      1\u001b[0m \u001b[0mts\u001b[0m \u001b[0;34m=\u001b[0m\u001b[0;34m[\u001b[0m\u001b[0mx\u001b[0m \u001b[0;32mfor\u001b[0m \u001b[0mx\u001b[0m \u001b[0;32min\u001b[0m \u001b[0mrange\u001b[0m\u001b[0;34m(\u001b[0m\u001b[0;36m200\u001b[0m\u001b[0;34m)\u001b[0m\u001b[0;34m]\u001b[0m\u001b[0;34m\u001b[0m\u001b[0;34m\u001b[0m\u001b[0m\n\u001b[0;32m----> 2\u001b[0;31m \u001b[0mplt\u001b[0m\u001b[0;34m.\u001b[0m\u001b[0mplot\u001b[0m\u001b[0;34m(\u001b[0m\u001b[0mts\u001b[0m\u001b[0;34m,\u001b[0m \u001b[0my_test\u001b[0m\u001b[0;34m[\u001b[0m\u001b[0;34m:\u001b[0m\u001b[0;36m200\u001b[0m\u001b[0;34m]\u001b[0m\u001b[0;34m,\u001b[0m \u001b[0mmarker\u001b[0m\u001b[0;34m=\u001b[0m\u001b[0;34m'.'\u001b[0m\u001b[0;34m,\u001b[0m \u001b[0mlabel\u001b[0m\u001b[0;34m=\u001b[0m\u001b[0;34m\"actual\"\u001b[0m\u001b[0;34m)\u001b[0m\u001b[0;34m\u001b[0m\u001b[0;34m\u001b[0m\u001b[0m\n\u001b[0m\u001b[1;32m      3\u001b[0m \u001b[0mplt\u001b[0m\u001b[0;34m.\u001b[0m\u001b[0mplot\u001b[0m\u001b[0;34m(\u001b[0m\u001b[0mts\u001b[0m\u001b[0;34m,\u001b[0m \u001b[0mprediction\u001b[0m\u001b[0;34m[\u001b[0m\u001b[0;34m:\u001b[0m\u001b[0;36m200\u001b[0m\u001b[0;34m]\u001b[0m\u001b[0;34m,\u001b[0m \u001b[0;34m'r'\u001b[0m\u001b[0;34m,\u001b[0m \u001b[0mlabel\u001b[0m\u001b[0;34m=\u001b[0m\u001b[0;34m\"prediction\"\u001b[0m\u001b[0;34m)\u001b[0m\u001b[0;34m\u001b[0m\u001b[0;34m\u001b[0m\u001b[0m\n\u001b[1;32m      4\u001b[0m \u001b[0mplt\u001b[0m\u001b[0;34m.\u001b[0m\u001b[0mylabel\u001b[0m\u001b[0;34m(\u001b[0m\u001b[0;34m'Global_active_power'\u001b[0m\u001b[0;34m,\u001b[0m \u001b[0msize\u001b[0m\u001b[0;34m=\u001b[0m\u001b[0;36m15\u001b[0m\u001b[0;34m)\u001b[0m\u001b[0;34m\u001b[0m\u001b[0;34m\u001b[0m\u001b[0m\n\u001b[1;32m      5\u001b[0m \u001b[0mplt\u001b[0m\u001b[0;34m.\u001b[0m\u001b[0mxlabel\u001b[0m\u001b[0;34m(\u001b[0m\u001b[0;34m'Time step'\u001b[0m\u001b[0;34m,\u001b[0m \u001b[0msize\u001b[0m\u001b[0;34m=\u001b[0m\u001b[0;36m15\u001b[0m\u001b[0;34m)\u001b[0m\u001b[0;34m\u001b[0m\u001b[0;34m\u001b[0m\u001b[0m\n",
            "\u001b[0;31mNameError\u001b[0m: name 'y_test' is not defined"
          ]
        }
      ]
    }
  ]
}